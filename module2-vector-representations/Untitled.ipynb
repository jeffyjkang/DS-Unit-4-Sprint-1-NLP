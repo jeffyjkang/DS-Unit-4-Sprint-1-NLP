{
 "cells": [
  {
   "cell_type": "code",
   "execution_count": 2,
   "id": "35ada25c-ff87-4954-9f78-61bc33e16944",
   "metadata": {},
   "outputs": [],
   "source": [
    "# imports\n",
    "import pandas as pd\n",
    "import seaborn as sns\n",
    "import matplotlib.pyplot as plt\n",
    "\n",
    "from sklearn.feature_extraction.text import CountVectorizer, TfidfVectorizer\n",
    "from sklearn.metrics.pairwise import cosine_similarity\n",
    "from sklearn.neighbors import NearestNeighbors\n",
    "from sklearn.decomposition import PCA\n",
    "\n",
    "import spacy\n",
    "nlp = spacy.load('en_core_web_lg')\n"
   ]
  },
  {
   "cell_type": "code",
   "execution_count": 14,
   "id": "f5a208b6-81db-44c7-9bd5-582d148ee44d",
   "metadata": {},
   "outputs": [],
   "source": [
    "text = 'We created a new dataset which emphasizes diversity of content, by scraping content from the Internet. In order to preserve document quality, we used only pages which have been curated/filtered by humans--specifically, we used outbound links from Reddit which received at least 3 karma. This can be thought of as a heuristic indicator for whether other users found the link interesting (whether educational or funny), leading to higher data quality than other similar datasets, such as CommonCrawl.'"
   ]
  },
  {
   "cell_type": "code",
   "execution_count": 16,
   "id": "4a263e80-e2b2-42ee-99ba-0c2f9016b43c",
   "metadata": {},
   "outputs": [
    {
     "name": "stdout",
     "output_type": "stream",
     "text": [
      "001.txt          102.txt          203.txt          304.txt\n",
      "002.txt          103.txt          204.txt          305.txt\n",
      "003.txt          104.txt          205.txt          306.txt\n",
      "004.txt          105.txt          206.txt          307.txt\n",
      "005.txt          106.txt          207.txt          308.txt\n",
      "006.txt          107.txt          208.txt          309.txt\n",
      "007.txt          108.txt          209.txt          310.txt\n",
      "008.txt          109.txt          210.txt          311.txt\n",
      "009.txt          110.txt          211.txt          312.txt\n",
      "010.txt          111.txt          212.txt          313.txt\n",
      "011.txt          112.txt          213.txt          314.txt\n",
      "012.txt          113.txt          214.txt          315.txt\n",
      "013.txt          114.txt          215.txt          316.txt\n",
      "014.txt          115.txt          216.txt          317.txt\n",
      "015.txt          116.txt          217.txt          318.txt\n",
      "016.txt          117.txt          218.txt          319.txt\n",
      "017.txt          118.txt          219.txt          320.txt\n",
      "018.txt          119.txt          220.txt          321.txt\n",
      "019.txt          120.txt          221.txt          322.txt\n",
      "020.txt          121.txt          222.txt          323.txt\n",
      "021.txt          122.txt          223.txt          324.txt\n",
      "022.txt          123.txt          224.txt          325.txt\n",
      "023.txt          124.txt          225.txt          326.txt\n",
      "024.txt          125.txt          226.txt          327.txt\n",
      "025.txt          126.txt          227.txt          328.txt\n",
      "026.txt          127.txt          228.txt          329.txt\n",
      "027.txt          128.txt          229.txt          330.txt\n",
      "028.txt          129.txt          230.txt          331.txt\n",
      "029.txt          130.txt          231.txt          332.txt\n",
      "030.txt          131.txt          232.txt          333.txt\n",
      "031.txt          132.txt          233.txt          334.txt\n",
      "032.txt          133.txt          234.txt          335.txt\n",
      "033.txt          134.txt          235.txt          336.txt\n",
      "034.txt          135.txt          236.txt          337.txt\n",
      "035.txt          136.txt          237.txt          338.txt\n",
      "036.txt          137.txt          238.txt          339.txt\n",
      "037.txt          138.txt          239.txt          340.txt\n",
      "038.txt          139.txt          240.txt          341.txt\n",
      "039.txt          140.txt          241.txt          342.txt\n",
      "040.txt          141.txt          242.txt          343.txt\n",
      "041.txt          142.txt          243.txt          344.txt\n",
      "042.txt          143.txt          244.txt          345.txt\n",
      "043.txt          144.txt          245.txt          346.txt\n",
      "044.txt          145.txt          246.txt          347.txt\n",
      "045.txt          146.txt          247.txt          348.txt\n",
      "046.txt          147.txt          248.txt          349.txt\n",
      "047.txt          148.txt          249.txt          350.txt\n",
      "048.txt          149.txt          250.txt          351.txt\n",
      "049.txt          150.txt          251.txt          352.txt\n",
      "050.txt          151.txt          252.txt          353.txt\n",
      "051.txt          152.txt          253.txt          354.txt\n",
      "052.txt          153.txt          254.txt          355.txt\n",
      "053.txt          154.txt          255.txt          356.txt\n",
      "054.txt          155.txt          256.txt          357.txt\n",
      "055.txt          156.txt          257.txt          358.txt\n",
      "056.txt          157.txt          258.txt          359.txt\n",
      "057.txt          158.txt          259.txt          360.txt\n",
      "058.txt          159.txt          260.txt          361.txt\n",
      "059.txt          160.txt          261.txt          362.txt\n",
      "060.txt          161.txt          262.txt          363.txt\n",
      "061.txt          162.txt          263.txt          364.txt\n",
      "062.txt          163.txt          264.txt          365.txt\n",
      "063.txt          164.txt          265.txt          366.txt\n",
      "064.txt          165.txt          266.txt          367.txt\n",
      "065.txt          166.txt          267.txt          368.txt\n",
      "066.txt          167.txt          268.txt          369.txt\n",
      "067.txt          168.txt          269.txt          370.txt\n",
      "068.txt          169.txt          270.txt          371.txt\n",
      "069.txt          170.txt          271.txt          372.txt\n",
      "070.txt          171.txt          272.txt          373.txt\n",
      "071.txt          172.txt          273.txt          374.txt\n",
      "072.txt          173.txt          274.txt          375.txt\n",
      "073.txt          174.txt          275.txt          376.txt\n",
      "074.txt          175.txt          276.txt          377.txt\n",
      "075.txt          176.txt          277.txt          378.txt\n",
      "076.txt          177.txt          278.txt          379.txt\n",
      "077.txt          178.txt          279.txt          380.txt\n",
      "078.txt          179.txt          280.txt          381.txt\n",
      "079.txt          180.txt          281.txt          382.txt\n",
      "080.txt          181.txt          282.txt          383.txt\n",
      "081.txt          182.txt          283.txt          384.txt\n",
      "082.txt          183.txt          284.txt          385.txt\n",
      "083.txt          184.txt          285.txt          386.txt\n",
      "084.txt          185.txt          286.txt          387.txt\n",
      "085.txt          186.txt          287.txt          388.txt\n",
      "086.txt          187.txt          288.txt          389.txt\n",
      "087.txt          188.txt          289.txt          390.txt\n",
      "088.txt          189.txt          290.txt          391.txt\n",
      "089.txt          190.txt          291.txt          392.txt\n",
      "090.txt          191.txt          292.txt          393.txt\n",
      "091.txt          192.txt          293.txt          394.txt\n",
      "092.txt          193.txt          294.txt          395.txt\n",
      "093.txt          194.txt          295.txt          396.txt\n",
      "094.txt          195.txt          296.txt          397.txt\n",
      "095.txt          196.txt          297.txt          398.txt\n",
      "096.txt          197.txt          298.txt          399.txt\n",
      "097.txt          198.txt          299.txt          400.txt\n",
      "098.txt          199.txt          300.txt          401.txt\n",
      "099.txt          200.txt          301.txt          job_listings.csv\n",
      "100.txt          201.txt          302.txt\n",
      "101.txt          202.txt          303.txt\n"
     ]
    }
   ],
   "source": [
    "!ls data/"
   ]
  },
  {
   "cell_type": "code",
   "execution_count": 15,
   "id": "7d56feb8-fc2d-46e6-94a1-6d21c5c5afb4",
   "metadata": {},
   "outputs": [
    {
     "name": "stdout",
     "output_type": "stream",
     "text": [
      "['create', 'new', 'dataset', 'emphasize', 'diversity', 'content', 'scrape', 'content', 'internet', 'order', 'preserve', 'document', 'quality', 'page', 'curate', 'filter', 'human', 'specifically', 'outbound', 'link', 'Reddit', 'receive', '3', 'karma', 'think', 'heuristic', 'indicator', 'user', 'find', 'link', 'interesting', 'educational', 'funny', 'lead', 'high', 'datum', 'quality', 'similar', 'dataset', 'CommonCrawl']\n"
     ]
    }
   ],
   "source": [
    "doc = nlp(text)\n",
    "print([token.lemma_ for token in doc if (token.is_stop != True) and (token.is_punct != True)])"
   ]
  },
  {
   "cell_type": "code",
   "execution_count": 35,
   "id": "66c40ca4-f40b-4d9e-8a64-1298c1543085",
   "metadata": {},
   "outputs": [],
   "source": [
    "# import os\n",
    "\n",
    "# def gather_data(filefolder):\n",
    "#     ''' Produces List of Documents from a Directory\n",
    "    \n",
    "#     filefolder (str): a path of .txt files\n",
    "    \n",
    "#     returns list of string\n",
    "#     '''\n",
    "    \n",
    "#     data = []\n",
    "#     print(os.path, filefolder)\n",
    "#     files = os.listdir(filefolder) # causes variation across machines\n",
    "    \n",
    "#     for article in files:\n",
    "#         path = os.path.join(filefolder, article)\n",
    "        \n",
    "#         if path[-3:] == 'txt': # os ~endswith('txt')\n",
    "#             with open(path, 'rb') as f:\n",
    "#                 data.append(f.read())\n",
    "#     return data"
   ]
  },
  {
   "cell_type": "code",
   "execution_count": 39,
   "id": "bb3a2831-d830-4169-beed-00ba3455861e",
   "metadata": {},
   "outputs": [],
   "source": [
    "from glob import glob\n",
    "\n",
    "def gather_data_v2(filefolder):\n",
    "    data = []\n",
    "    file_list = sorted(glob(filefolder + '/*.txt'))\n",
    "    for article in file_list:\n",
    "        with open(article, 'rb') as f:\n",
    "            data.append(f.read())\n",
    "    return data"
   ]
  },
  {
   "cell_type": "code",
   "execution_count": 40,
   "id": "75fd8b73-a0c3-410f-b149-7984115b2f9d",
   "metadata": {},
   "outputs": [],
   "source": [
    "data = gather_data_v2('./data')"
   ]
  },
  {
   "cell_type": "code",
   "execution_count": 41,
   "id": "ab4202e2-a300-4d7d-a24e-29e610e314b9",
   "metadata": {},
   "outputs": [
    {
     "data": {
      "text/plain": [
       "401"
      ]
     },
     "execution_count": 41,
     "metadata": {},
     "output_type": "execute_result"
    }
   ],
   "source": [
    "len(data)"
   ]
  },
  {
   "cell_type": "code",
   "execution_count": 42,
   "id": "b723443f-b4dc-43d0-ae0e-0922b9b7aab7",
   "metadata": {},
   "outputs": [
    {
     "data": {
      "text/plain": [
       "b'Ink helps drive democracy in Asia\\n\\nThe Kyrgyz Republic, a small, mountainous state of the former Soviet republic, is using invisible ink and ultraviolet readers in the country\\'s elections as part of a drive to prevent multiple voting.\\n\\nThis new technology is causing both worries and guarded optimism among different sectors of the population. In an effort to live up to its reputation in the 1990s as \"an island of democracy\", the Kyrgyz President, Askar Akaev, pushed through the law requiring the use of ink during the upcoming Parliamentary and Presidential elections. The US government agreed to fund all expenses associated with this decision.\\n\\nThe Kyrgyz Republic is seen by many experts as backsliding from the high point it reached in the mid-1990s with a hastily pushed through referendum in 2003, reducing the legislative branch to one chamber with 75 deputies. The use of ink is only one part of a general effort to show commitment towards more open elections - the German Embassy, the Soros Foundation and the Kyrgyz government have all contributed to purchase transparent ballot boxes.\\n\\nThe actual technology behind the ink is not that complicated. The ink is sprayed on a person\\'s left thumb. It dries and is not visible under normal light.\\n\\nHowever, the presence of ultraviolet light (of the kind used to verify money) causes the ink to glow with a neon yellow light. At the entrance to each polling station, one election official will scan voter\\'s fingers with UV lamp before allowing them to enter, and every voter will have his/her left thumb sprayed with ink before receiving the ballot. If the ink shows under the UV light the voter will not be allowed to enter the polling station. Likewise, any voter who refuses to be inked will not receive the ballot. These elections are assuming even greater significance because of two large factors - the upcoming parliamentary elections are a prelude to a potentially regime changing presidential election in the Autumn as well as the echo of recent elections in other former Soviet Republics, notably Ukraine and Georgia. The use of ink has been controversial - especially among groups perceived to be pro-government.\\n\\nWidely circulated articles compared the use of ink to the rural practice of marking sheep - a still common metaphor in this primarily agricultural society.\\n\\nThe author of one such article began a petition drive against the use of the ink. The greatest part of the opposition to ink has often been sheer ignorance. Local newspapers have carried stories that the ink is harmful, radioactive or even that the ultraviolet readers may cause health problems. Others, such as the aggressively middle of the road, Coalition of Non-governmental Organizations, have lauded the move as an important step forward. This type of ink has been used in many elections in the world, in countries as varied as Serbia, South Africa, Indonesia and Turkey. The other common type of ink in elections is indelible visible ink - but as the elections in Afghanistan showed, improper use of this type of ink can cause additional problems. The use of \"invisible\" ink is not without its own problems. In most elections, numerous rumors have spread about it.\\n\\nIn Serbia, for example, both Christian and Islamic leaders assured their populations that its use was not contrary to religion. Other rumours are associated with how to remove the ink - various soft drinks, solvents and cleaning products are put forward. However, in reality, the ink is very effective at getting under the cuticle of the thumb and difficult to wash off. The ink stays on the finger for at least 72 hours and for up to a week. The use of ink and readers by itself is not a panacea for election ills. The passage of the inking law is, nevertheless, a clear step forward towards free and fair elections.\" The country\\'s widely watched parliamentary elections are scheduled for 27 February.\\n\\nDavid Mikosz works for the IFES, an international, non-profit organisation that supports the building of democratic societies.\\n'"
      ]
     },
     "execution_count": 42,
     "metadata": {},
     "output_type": "execute_result"
    }
   ],
   "source": [
    "data[0]"
   ]
  },
  {
   "cell_type": "code",
   "execution_count": 47,
   "id": "b6022ebe-85fe-4eca-b318-ca7b9b258691",
   "metadata": {},
   "outputs": [],
   "source": [
    "# count vectorizer\n",
    "\n",
    "# list of text documents\n",
    "text = ['We created a new dataset which emphasizes diversity of content, by scraping content from the Internet.',\n",
    "        'In order to preserve document quality, we used only pages which have been curated/filtered by humans--specifically, we used outbound links from Reddit which received at least 3 karma.', \n",
    "        'This can be thought of as a heuristic indicator for whether other users found the link interesting (whether educational or funny), leading to higher data quality than other similar datasets, such as CommonCrawl.']\n",
    "# create the transformer\n",
    "vect = CountVectorizer()\n",
    "# build vocab\n",
    "vect.fit(text)\n",
    "# transform text\n",
    "dtm = vect.transform(text)\n",
    "\n",
    "# create a vocabulary\n",
    "# the vocabulary establishes all of the possible words that we might use.\n",
    "# the vocabulary dictionary does not represent the counts of words!!"
   ]
  },
  {
   "cell_type": "code",
   "execution_count": 53,
   "id": "1be5ca9f-263c-44e5-a753-48ca50ab5fa9",
   "metadata": {},
   "outputs": [
    {
     "data": {
      "text/plain": [
       "numpy.matrix"
      ]
     },
     "metadata": {},
     "output_type": "display_data"
    },
    {
     "data": {
      "text/plain": [
       "matrix([[0, 0, 0, 0, 1, 0, 0, 2, 1, 0, 0, 1, 0, 1, 0, 0, 1, 0, 0, 0, 1,\n",
       "         0, 0, 0, 0, 0, 0, 0, 0, 1, 0, 0, 0, 0, 0, 1, 1, 0, 0, 0, 0, 0,\n",
       "         0, 0, 0, 0, 0, 1, 0, 0, 0, 0, 1, 0, 0, 0, 0, 0, 1, 0, 1],\n",
       "        [0, 1, 0, 1, 1, 0, 0, 0, 0, 1, 0, 0, 0, 0, 1, 0, 0, 1, 0, 0, 1,\n",
       "         0, 1, 0, 0, 1, 1, 0, 0, 0, 1, 0, 1, 0, 1, 0, 0, 1, 0, 1, 0, 1,\n",
       "         1, 1, 1, 1, 1, 0, 0, 1, 0, 0, 0, 0, 0, 1, 2, 0, 2, 0, 2],\n",
       "        [2, 0, 1, 0, 0, 1, 1, 0, 0, 0, 1, 0, 1, 0, 0, 1, 0, 0, 1, 1, 0,\n",
       "         1, 0, 1, 1, 0, 0, 1, 1, 0, 0, 1, 0, 1, 0, 0, 1, 0, 1, 0, 2, 0,\n",
       "         0, 0, 1, 0, 0, 0, 1, 0, 1, 1, 1, 1, 1, 1, 0, 1, 0, 2, 0]])"
      ]
     },
     "metadata": {},
     "output_type": "display_data"
    }
   ],
   "source": [
    "display(type(dtm.todense()))\n",
    "display(dtm.todense())"
   ]
  },
  {
   "cell_type": "code",
   "execution_count": 49,
   "id": "1f2bdb7f-0108-4b9f-9e6b-b01a45f0782e",
   "metadata": {},
   "outputs": [
    {
     "name": "stdout",
     "output_type": "stream",
     "text": [
      "['as', 'at', 'be', 'been', 'by', 'can', 'commoncrawl', 'content', 'created', 'curated', 'data', 'dataset', 'datasets', 'diversity', 'document', 'educational', 'emphasizes', 'filtered', 'for', 'found', 'from', 'funny', 'have', 'heuristic', 'higher', 'humans', 'in', 'indicator', 'interesting', 'internet', 'karma', 'leading', 'least', 'link', 'links', 'new', 'of', 'only', 'or', 'order', 'other', 'outbound', 'pages', 'preserve', 'quality', 'received', 'reddit', 'scraping', 'similar', 'specifically', 'such', 'than', 'the', 'this', 'thought', 'to', 'used', 'users', 'we', 'whether', 'which']\n"
     ]
    },
    {
     "name": "stderr",
     "output_type": "stream",
     "text": [
      "/Users/jeffkang/.local/share/virtualenvs/DS-Unit-4-Sprint-1-NLP-oR_Dfgyc/lib/python3.9/site-packages/sklearn/utils/deprecation.py:87: FutureWarning: Function get_feature_names is deprecated; get_feature_names is deprecated in 1.0 and will be removed in 1.2. Please use get_feature_names_out instead.\n",
      "  warnings.warn(msg, category=FutureWarning)\n"
     ]
    }
   ],
   "source": [
    "print(vect.get_feature_names())"
   ]
  },
  {
   "cell_type": "code",
   "execution_count": 50,
   "id": "df673475-c926-4f24-86b0-976648b55e36",
   "metadata": {},
   "outputs": [
    {
     "data": {
      "text/plain": [
       "['We created a new dataset which emphasizes diversity of content, by scraping content from the Internet.',\n",
       " 'In order to preserve document quality, we used only pages which have been curated/filtered by humans--specifically, we used outbound links from Reddit which received at least 3 karma.',\n",
       " 'This can be thought of as a heuristic indicator for whether other users found the link interesting (whether educational or funny), leading to higher data quality than other similar datasets, such as CommonCrawl.']"
      ]
     },
     "execution_count": 50,
     "metadata": {},
     "output_type": "execute_result"
    }
   ],
   "source": [
    "text[:25]"
   ]
  },
  {
   "cell_type": "code",
   "execution_count": 51,
   "id": "8c0154b9-88fd-4ca8-9994-5a2cfa6725c6",
   "metadata": {},
   "outputs": [
    {
     "name": "stdout",
     "output_type": "stream",
     "text": [
      "  (0, 4)\t1\n",
      "  (0, 7)\t2\n",
      "  (0, 8)\t1\n",
      "  (0, 11)\t1\n",
      "  (0, 13)\t1\n",
      "  (0, 16)\t1\n",
      "  (0, 20)\t1\n",
      "  (0, 29)\t1\n",
      "  (0, 35)\t1\n",
      "  (0, 36)\t1\n",
      "  (0, 47)\t1\n",
      "  (0, 52)\t1\n",
      "  (0, 58)\t1\n",
      "  (0, 60)\t1\n",
      "  (1, 1)\t1\n",
      "  (1, 3)\t1\n",
      "  (1, 4)\t1\n",
      "  (1, 9)\t1\n",
      "  (1, 14)\t1\n",
      "  (1, 17)\t1\n",
      "  (1, 20)\t1\n",
      "  (1, 22)\t1\n",
      "  (1, 25)\t1\n",
      "  (1, 26)\t1\n",
      "  (1, 30)\t1\n",
      "  :\t:\n",
      "  (2, 10)\t1\n",
      "  (2, 12)\t1\n",
      "  (2, 15)\t1\n",
      "  (2, 18)\t1\n",
      "  (2, 19)\t1\n",
      "  (2, 21)\t1\n",
      "  (2, 23)\t1\n",
      "  (2, 24)\t1\n",
      "  (2, 27)\t1\n",
      "  (2, 28)\t1\n",
      "  (2, 31)\t1\n",
      "  (2, 33)\t1\n",
      "  (2, 36)\t1\n",
      "  (2, 38)\t1\n",
      "  (2, 40)\t2\n",
      "  (2, 44)\t1\n",
      "  (2, 48)\t1\n",
      "  (2, 50)\t1\n",
      "  (2, 51)\t1\n",
      "  (2, 52)\t1\n",
      "  (2, 53)\t1\n",
      "  (2, 54)\t1\n",
      "  (2, 55)\t1\n",
      "  (2, 57)\t1\n",
      "  (2, 59)\t2\n"
     ]
    }
   ],
   "source": [
    "print(dtm) # sparse matrix, matrices"
   ]
  },
  {
   "cell_type": "code",
   "execution_count": 54,
   "id": "00c874cf-e0b5-4fec-8987-906ab9a08577",
   "metadata": {},
   "outputs": [
    {
     "data": {
      "text/plain": [
       "scipy.sparse.csr.csr_matrix"
      ]
     },
     "metadata": {},
     "output_type": "display_data"
    },
    {
     "name": "stderr",
     "output_type": "stream",
     "text": [
      "/Users/jeffkang/.local/share/virtualenvs/DS-Unit-4-Sprint-1-NLP-oR_Dfgyc/lib/python3.9/site-packages/sklearn/utils/deprecation.py:87: FutureWarning: Function get_feature_names is deprecated; get_feature_names is deprecated in 1.0 and will be removed in 1.2. Please use get_feature_names_out instead.\n",
      "  warnings.warn(msg, category=FutureWarning)\n"
     ]
    },
    {
     "data": {
      "text/html": [
       "<div>\n",
       "<style scoped>\n",
       "    .dataframe tbody tr th:only-of-type {\n",
       "        vertical-align: middle;\n",
       "    }\n",
       "\n",
       "    .dataframe tbody tr th {\n",
       "        vertical-align: top;\n",
       "    }\n",
       "\n",
       "    .dataframe thead th {\n",
       "        text-align: right;\n",
       "    }\n",
       "</style>\n",
       "<table border=\"1\" class=\"dataframe\">\n",
       "  <thead>\n",
       "    <tr style=\"text-align: right;\">\n",
       "      <th></th>\n",
       "      <th>as</th>\n",
       "      <th>at</th>\n",
       "      <th>be</th>\n",
       "      <th>been</th>\n",
       "      <th>by</th>\n",
       "      <th>can</th>\n",
       "      <th>commoncrawl</th>\n",
       "      <th>content</th>\n",
       "      <th>created</th>\n",
       "      <th>curated</th>\n",
       "      <th>...</th>\n",
       "      <th>than</th>\n",
       "      <th>the</th>\n",
       "      <th>this</th>\n",
       "      <th>thought</th>\n",
       "      <th>to</th>\n",
       "      <th>used</th>\n",
       "      <th>users</th>\n",
       "      <th>we</th>\n",
       "      <th>whether</th>\n",
       "      <th>which</th>\n",
       "    </tr>\n",
       "  </thead>\n",
       "  <tbody>\n",
       "    <tr>\n",
       "      <th>0</th>\n",
       "      <td>0</td>\n",
       "      <td>0</td>\n",
       "      <td>0</td>\n",
       "      <td>0</td>\n",
       "      <td>1</td>\n",
       "      <td>0</td>\n",
       "      <td>0</td>\n",
       "      <td>2</td>\n",
       "      <td>1</td>\n",
       "      <td>0</td>\n",
       "      <td>...</td>\n",
       "      <td>0</td>\n",
       "      <td>1</td>\n",
       "      <td>0</td>\n",
       "      <td>0</td>\n",
       "      <td>0</td>\n",
       "      <td>0</td>\n",
       "      <td>0</td>\n",
       "      <td>1</td>\n",
       "      <td>0</td>\n",
       "      <td>1</td>\n",
       "    </tr>\n",
       "    <tr>\n",
       "      <th>1</th>\n",
       "      <td>0</td>\n",
       "      <td>1</td>\n",
       "      <td>0</td>\n",
       "      <td>1</td>\n",
       "      <td>1</td>\n",
       "      <td>0</td>\n",
       "      <td>0</td>\n",
       "      <td>0</td>\n",
       "      <td>0</td>\n",
       "      <td>1</td>\n",
       "      <td>...</td>\n",
       "      <td>0</td>\n",
       "      <td>0</td>\n",
       "      <td>0</td>\n",
       "      <td>0</td>\n",
       "      <td>1</td>\n",
       "      <td>2</td>\n",
       "      <td>0</td>\n",
       "      <td>2</td>\n",
       "      <td>0</td>\n",
       "      <td>2</td>\n",
       "    </tr>\n",
       "    <tr>\n",
       "      <th>2</th>\n",
       "      <td>2</td>\n",
       "      <td>0</td>\n",
       "      <td>1</td>\n",
       "      <td>0</td>\n",
       "      <td>0</td>\n",
       "      <td>1</td>\n",
       "      <td>1</td>\n",
       "      <td>0</td>\n",
       "      <td>0</td>\n",
       "      <td>0</td>\n",
       "      <td>...</td>\n",
       "      <td>1</td>\n",
       "      <td>1</td>\n",
       "      <td>1</td>\n",
       "      <td>1</td>\n",
       "      <td>1</td>\n",
       "      <td>0</td>\n",
       "      <td>1</td>\n",
       "      <td>0</td>\n",
       "      <td>2</td>\n",
       "      <td>0</td>\n",
       "    </tr>\n",
       "  </tbody>\n",
       "</table>\n",
       "<p>3 rows × 61 columns</p>\n",
       "</div>"
      ],
      "text/plain": [
       "   as  at  be  been  by  can  commoncrawl  content  created  curated  ...  \\\n",
       "0   0   0   0     0   1    0            0        2        1        0  ...   \n",
       "1   0   1   0     1   1    0            0        0        0        1  ...   \n",
       "2   2   0   1     0   0    1            1        0        0        0  ...   \n",
       "\n",
       "   than  the  this  thought  to  used  users  we  whether  which  \n",
       "0     0    1     0        0   0     0      0   1        0      1  \n",
       "1     0    0     0        0   1     2      0   2        0      2  \n",
       "2     1    1     1        1   1     0      1   0        2      0  \n",
       "\n",
       "[3 rows x 61 columns]"
      ]
     },
     "metadata": {},
     "output_type": "display_data"
    }
   ],
   "source": [
    "display(type(dtm))\n",
    "dtm = pd.DataFrame(dtm.todense(), columns=vect.get_feature_names())\n",
    "display(dtm)"
   ]
  },
  {
   "cell_type": "code",
   "execution_count": 58,
   "id": "a75d5a19-b746-4dba-a7b6-9822668cc761",
   "metadata": {},
   "outputs": [
    {
     "data": {
      "text/plain": [
       "b'Ink helps drive democracy in Asia\\n\\nThe Kyrgyz Republic, a small, mountainous state of the former Soviet republic, is using invisible ink and ultraviol'"
      ]
     },
     "execution_count": 58,
     "metadata": {},
     "output_type": "execute_result"
    }
   ],
   "source": [
    "data[0][:150]"
   ]
  },
  {
   "cell_type": "code",
   "execution_count": 59,
   "id": "5c84a9a5-d988-4f62-8450-0e0d54675112",
   "metadata": {},
   "outputs": [
    {
     "name": "stderr",
     "output_type": "stream",
     "text": [
      "/Users/jeffkang/.local/share/virtualenvs/DS-Unit-4-Sprint-1-NLP-oR_Dfgyc/lib/python3.9/site-packages/sklearn/utils/deprecation.py:87: FutureWarning: Function get_feature_names is deprecated; get_feature_names is deprecated in 1.0 and will be removed in 1.2. Please use get_feature_names_out instead.\n",
      "  warnings.warn(msg, category=FutureWarning)\n"
     ]
    }
   ],
   "source": [
    "vect = CountVectorizer(max_features=1000)\n",
    "vect.fit(data)\n",
    "dtm = vect.transform(data)\n",
    "dtm = pd.DataFrame(dtm.todense(),columns=vect.get_feature_names())"
   ]
  },
  {
   "cell_type": "code",
   "execution_count": 60,
   "id": "c74162a3-2b30-432a-a502-75756efdbfe5",
   "metadata": {},
   "outputs": [
    {
     "data": {
      "text/html": [
       "<div>\n",
       "<style scoped>\n",
       "    .dataframe tbody tr th:only-of-type {\n",
       "        vertical-align: middle;\n",
       "    }\n",
       "\n",
       "    .dataframe tbody tr th {\n",
       "        vertical-align: top;\n",
       "    }\n",
       "\n",
       "    .dataframe thead th {\n",
       "        text-align: right;\n",
       "    }\n",
       "</style>\n",
       "<table border=\"1\" class=\"dataframe\">\n",
       "  <thead>\n",
       "    <tr style=\"text-align: right;\">\n",
       "      <th></th>\n",
       "      <th>000</th>\n",
       "      <th>10</th>\n",
       "      <th>100</th>\n",
       "      <th>11</th>\n",
       "      <th>12</th>\n",
       "      <th>14</th>\n",
       "      <th>15</th>\n",
       "      <th>18</th>\n",
       "      <th>20</th>\n",
       "      <th>200</th>\n",
       "      <th>...</th>\n",
       "      <th>writing</th>\n",
       "      <th>xbox</th>\n",
       "      <th>xp</th>\n",
       "      <th>yahoo</th>\n",
       "      <th>year</th>\n",
       "      <th>years</th>\n",
       "      <th>yet</th>\n",
       "      <th>york</th>\n",
       "      <th>you</th>\n",
       "      <th>your</th>\n",
       "    </tr>\n",
       "  </thead>\n",
       "  <tbody>\n",
       "    <tr>\n",
       "      <th>0</th>\n",
       "      <td>0</td>\n",
       "      <td>0</td>\n",
       "      <td>0</td>\n",
       "      <td>0</td>\n",
       "      <td>0</td>\n",
       "      <td>0</td>\n",
       "      <td>0</td>\n",
       "      <td>0</td>\n",
       "      <td>0</td>\n",
       "      <td>0</td>\n",
       "      <td>...</td>\n",
       "      <td>0</td>\n",
       "      <td>0</td>\n",
       "      <td>0</td>\n",
       "      <td>0</td>\n",
       "      <td>0</td>\n",
       "      <td>0</td>\n",
       "      <td>0</td>\n",
       "      <td>0</td>\n",
       "      <td>0</td>\n",
       "      <td>0</td>\n",
       "    </tr>\n",
       "    <tr>\n",
       "      <th>1</th>\n",
       "      <td>1</td>\n",
       "      <td>0</td>\n",
       "      <td>1</td>\n",
       "      <td>0</td>\n",
       "      <td>2</td>\n",
       "      <td>0</td>\n",
       "      <td>0</td>\n",
       "      <td>0</td>\n",
       "      <td>0</td>\n",
       "      <td>1</td>\n",
       "      <td>...</td>\n",
       "      <td>0</td>\n",
       "      <td>0</td>\n",
       "      <td>0</td>\n",
       "      <td>0</td>\n",
       "      <td>0</td>\n",
       "      <td>0</td>\n",
       "      <td>0</td>\n",
       "      <td>0</td>\n",
       "      <td>0</td>\n",
       "      <td>0</td>\n",
       "    </tr>\n",
       "    <tr>\n",
       "      <th>2</th>\n",
       "      <td>0</td>\n",
       "      <td>0</td>\n",
       "      <td>0</td>\n",
       "      <td>0</td>\n",
       "      <td>0</td>\n",
       "      <td>0</td>\n",
       "      <td>0</td>\n",
       "      <td>0</td>\n",
       "      <td>0</td>\n",
       "      <td>0</td>\n",
       "      <td>...</td>\n",
       "      <td>0</td>\n",
       "      <td>0</td>\n",
       "      <td>0</td>\n",
       "      <td>0</td>\n",
       "      <td>0</td>\n",
       "      <td>0</td>\n",
       "      <td>1</td>\n",
       "      <td>0</td>\n",
       "      <td>0</td>\n",
       "      <td>0</td>\n",
       "    </tr>\n",
       "    <tr>\n",
       "      <th>3</th>\n",
       "      <td>0</td>\n",
       "      <td>0</td>\n",
       "      <td>2</td>\n",
       "      <td>0</td>\n",
       "      <td>0</td>\n",
       "      <td>0</td>\n",
       "      <td>0</td>\n",
       "      <td>0</td>\n",
       "      <td>1</td>\n",
       "      <td>2</td>\n",
       "      <td>...</td>\n",
       "      <td>0</td>\n",
       "      <td>0</td>\n",
       "      <td>0</td>\n",
       "      <td>0</td>\n",
       "      <td>2</td>\n",
       "      <td>3</td>\n",
       "      <td>0</td>\n",
       "      <td>0</td>\n",
       "      <td>2</td>\n",
       "      <td>0</td>\n",
       "    </tr>\n",
       "    <tr>\n",
       "      <th>4</th>\n",
       "      <td>0</td>\n",
       "      <td>0</td>\n",
       "      <td>1</td>\n",
       "      <td>0</td>\n",
       "      <td>0</td>\n",
       "      <td>0</td>\n",
       "      <td>1</td>\n",
       "      <td>0</td>\n",
       "      <td>0</td>\n",
       "      <td>0</td>\n",
       "      <td>...</td>\n",
       "      <td>0</td>\n",
       "      <td>0</td>\n",
       "      <td>0</td>\n",
       "      <td>0</td>\n",
       "      <td>2</td>\n",
       "      <td>1</td>\n",
       "      <td>0</td>\n",
       "      <td>0</td>\n",
       "      <td>0</td>\n",
       "      <td>0</td>\n",
       "    </tr>\n",
       "  </tbody>\n",
       "</table>\n",
       "<p>5 rows × 1000 columns</p>\n",
       "</div>"
      ],
      "text/plain": [
       "   000  10  100  11  12  14  15  18  20  200  ...  writing  xbox  xp  yahoo  \\\n",
       "0    0   0    0   0   0   0   0   0   0    0  ...        0     0   0      0   \n",
       "1    1   0    1   0   2   0   0   0   0    1  ...        0     0   0      0   \n",
       "2    0   0    0   0   0   0   0   0   0    0  ...        0     0   0      0   \n",
       "3    0   0    2   0   0   0   0   0   1    2  ...        0     0   0      0   \n",
       "4    0   0    1   0   0   0   1   0   0    0  ...        0     0   0      0   \n",
       "\n",
       "   year  years  yet  york  you  your  \n",
       "0     0      0    0     0    0     0  \n",
       "1     0      0    0     0    0     0  \n",
       "2     0      0    1     0    0     0  \n",
       "3     2      3    0     0    2     0  \n",
       "4     2      1    0     0    0     0  \n",
       "\n",
       "[5 rows x 1000 columns]"
      ]
     },
     "execution_count": 60,
     "metadata": {},
     "output_type": "execute_result"
    }
   ],
   "source": [
    "dtm.head()"
   ]
  },
  {
   "cell_type": "code",
   "execution_count": 61,
   "id": "ad186336-c11b-4323-835f-88a214875026",
   "metadata": {},
   "outputs": [],
   "source": [
    "doc_len = [len(doc) for doc in data]"
   ]
  },
  {
   "cell_type": "code",
   "execution_count": 62,
   "id": "5e89f4b6-6605-46a9-bb4e-01f81f1a77db",
   "metadata": {},
   "outputs": [
    {
     "name": "stderr",
     "output_type": "stream",
     "text": [
      "/Users/jeffkang/.local/share/virtualenvs/DS-Unit-4-Sprint-1-NLP-oR_Dfgyc/lib/python3.9/site-packages/seaborn/distributions.py:2619: FutureWarning: `distplot` is a deprecated function and will be removed in a future version. Please adapt your code to use either `displot` (a figure-level function with similar flexibility) or `histplot` (an axes-level function for histograms).\n",
      "  warnings.warn(msg, FutureWarning)\n"
     ]
    },
    {
     "data": {
      "image/png": "[encoded data removed]",
      "text/plain": [
       "<Figure size 432x288 with 1 Axes>"
      ]
     },
     "metadata": {
      "needs_background": "light"
     },
     "output_type": "display_data"
    }
   ],
   "source": [
    "import seaborn as sns\n",
    "sns.distplot(doc_len);"
   ]
  },
  {
   "cell_type": "code",
   "execution_count": 63,
   "id": "b83f79cb-96b7-4fdc-8a1d-c9de023deae4",
   "metadata": {},
   "outputs": [
    {
     "name": "stderr",
     "output_type": "stream",
     "text": [
      "/Users/jeffkang/.local/share/virtualenvs/DS-Unit-4-Sprint-1-NLP-oR_Dfgyc/lib/python3.9/site-packages/sklearn/utils/deprecation.py:87: FutureWarning: Function get_feature_names is deprecated; get_feature_names is deprecated in 1.0 and will be removed in 1.2. Please use get_feature_names_out instead.\n",
      "  warnings.warn(msg, category=FutureWarning)\n"
     ]
    },
    {
     "data": {
      "text/html": [
       "<div>\n",
       "<style scoped>\n",
       "    .dataframe tbody tr th:only-of-type {\n",
       "        vertical-align: middle;\n",
       "    }\n",
       "\n",
       "    .dataframe tbody tr th {\n",
       "        vertical-align: top;\n",
       "    }\n",
       "\n",
       "    .dataframe thead th {\n",
       "        text-align: right;\n",
       "    }\n",
       "</style>\n",
       "<table border=\"1\" class=\"dataframe\">\n",
       "  <thead>\n",
       "    <tr style=\"text-align: right;\">\n",
       "      <th></th>\n",
       "      <th>000</th>\n",
       "      <th>10</th>\n",
       "      <th>100</th>\n",
       "      <th>101</th>\n",
       "      <th>104</th>\n",
       "      <th>10m</th>\n",
       "      <th>11</th>\n",
       "      <th>12</th>\n",
       "      <th>120</th>\n",
       "      <th>13</th>\n",
       "      <th>...</th>\n",
       "      <th>yoda</th>\n",
       "      <th>yoran</th>\n",
       "      <th>york</th>\n",
       "      <th>young</th>\n",
       "      <th>younger</th>\n",
       "      <th>youngsters</th>\n",
       "      <th>youth</th>\n",
       "      <th>zafi</th>\n",
       "      <th>zen</th>\n",
       "      <th>zombies</th>\n",
       "    </tr>\n",
       "  </thead>\n",
       "  <tbody>\n",
       "    <tr>\n",
       "      <th>0</th>\n",
       "      <td>0.000000</td>\n",
       "      <td>0.0</td>\n",
       "      <td>0.000000</td>\n",
       "      <td>0.0</td>\n",
       "      <td>0.0</td>\n",
       "      <td>0.0</td>\n",
       "      <td>0.0</td>\n",
       "      <td>0.000000</td>\n",
       "      <td>0.0</td>\n",
       "      <td>0.0</td>\n",
       "      <td>...</td>\n",
       "      <td>0.0</td>\n",
       "      <td>0.0</td>\n",
       "      <td>0.0</td>\n",
       "      <td>0.000000</td>\n",
       "      <td>0.0</td>\n",
       "      <td>0.0</td>\n",
       "      <td>0.0</td>\n",
       "      <td>0.0</td>\n",
       "      <td>0.0</td>\n",
       "      <td>0.0</td>\n",
       "    </tr>\n",
       "    <tr>\n",
       "      <th>1</th>\n",
       "      <td>0.021186</td>\n",
       "      <td>0.0</td>\n",
       "      <td>0.030607</td>\n",
       "      <td>0.0</td>\n",
       "      <td>0.0</td>\n",
       "      <td>0.0</td>\n",
       "      <td>0.0</td>\n",
       "      <td>0.062425</td>\n",
       "      <td>0.0</td>\n",
       "      <td>0.0</td>\n",
       "      <td>...</td>\n",
       "      <td>0.0</td>\n",
       "      <td>0.0</td>\n",
       "      <td>0.0</td>\n",
       "      <td>0.085659</td>\n",
       "      <td>0.0</td>\n",
       "      <td>0.0</td>\n",
       "      <td>0.0</td>\n",
       "      <td>0.0</td>\n",
       "      <td>0.0</td>\n",
       "      <td>0.0</td>\n",
       "    </tr>\n",
       "    <tr>\n",
       "      <th>2</th>\n",
       "      <td>0.000000</td>\n",
       "      <td>0.0</td>\n",
       "      <td>0.000000</td>\n",
       "      <td>0.0</td>\n",
       "      <td>0.0</td>\n",
       "      <td>0.0</td>\n",
       "      <td>0.0</td>\n",
       "      <td>0.000000</td>\n",
       "      <td>0.0</td>\n",
       "      <td>0.0</td>\n",
       "      <td>...</td>\n",
       "      <td>0.0</td>\n",
       "      <td>0.0</td>\n",
       "      <td>0.0</td>\n",
       "      <td>0.000000</td>\n",
       "      <td>0.0</td>\n",
       "      <td>0.0</td>\n",
       "      <td>0.0</td>\n",
       "      <td>0.0</td>\n",
       "      <td>0.0</td>\n",
       "      <td>0.0</td>\n",
       "    </tr>\n",
       "    <tr>\n",
       "      <th>3</th>\n",
       "      <td>0.000000</td>\n",
       "      <td>0.0</td>\n",
       "      <td>0.083089</td>\n",
       "      <td>0.0</td>\n",
       "      <td>0.0</td>\n",
       "      <td>0.0</td>\n",
       "      <td>0.0</td>\n",
       "      <td>0.000000</td>\n",
       "      <td>0.0</td>\n",
       "      <td>0.0</td>\n",
       "      <td>...</td>\n",
       "      <td>0.0</td>\n",
       "      <td>0.0</td>\n",
       "      <td>0.0</td>\n",
       "      <td>0.000000</td>\n",
       "      <td>0.0</td>\n",
       "      <td>0.0</td>\n",
       "      <td>0.0</td>\n",
       "      <td>0.0</td>\n",
       "      <td>0.0</td>\n",
       "      <td>0.0</td>\n",
       "    </tr>\n",
       "    <tr>\n",
       "      <th>4</th>\n",
       "      <td>0.000000</td>\n",
       "      <td>0.0</td>\n",
       "      <td>0.026840</td>\n",
       "      <td>0.0</td>\n",
       "      <td>0.0</td>\n",
       "      <td>0.0</td>\n",
       "      <td>0.0</td>\n",
       "      <td>0.000000</td>\n",
       "      <td>0.0</td>\n",
       "      <td>0.0</td>\n",
       "      <td>...</td>\n",
       "      <td>0.0</td>\n",
       "      <td>0.0</td>\n",
       "      <td>0.0</td>\n",
       "      <td>0.000000</td>\n",
       "      <td>0.0</td>\n",
       "      <td>0.0</td>\n",
       "      <td>0.0</td>\n",
       "      <td>0.0</td>\n",
       "      <td>0.0</td>\n",
       "      <td>0.0</td>\n",
       "    </tr>\n",
       "  </tbody>\n",
       "</table>\n",
       "<p>5 rows × 5000 columns</p>\n",
       "</div>"
      ],
      "text/plain": [
       "        000   10       100  101  104  10m   11        12  120   13  ...  yoda  \\\n",
       "0  0.000000  0.0  0.000000  0.0  0.0  0.0  0.0  0.000000  0.0  0.0  ...   0.0   \n",
       "1  0.021186  0.0  0.030607  0.0  0.0  0.0  0.0  0.062425  0.0  0.0  ...   0.0   \n",
       "2  0.000000  0.0  0.000000  0.0  0.0  0.0  0.0  0.000000  0.0  0.0  ...   0.0   \n",
       "3  0.000000  0.0  0.083089  0.0  0.0  0.0  0.0  0.000000  0.0  0.0  ...   0.0   \n",
       "4  0.000000  0.0  0.026840  0.0  0.0  0.0  0.0  0.000000  0.0  0.0  ...   0.0   \n",
       "\n",
       "   yoran  york     young  younger  youngsters  youth  zafi  zen  zombies  \n",
       "0    0.0   0.0  0.000000      0.0         0.0    0.0   0.0  0.0      0.0  \n",
       "1    0.0   0.0  0.085659      0.0         0.0    0.0   0.0  0.0      0.0  \n",
       "2    0.0   0.0  0.000000      0.0         0.0    0.0   0.0  0.0      0.0  \n",
       "3    0.0   0.0  0.000000      0.0         0.0    0.0   0.0  0.0      0.0  \n",
       "4    0.0   0.0  0.000000      0.0         0.0    0.0   0.0  0.0      0.0  \n",
       "\n",
       "[5 rows x 5000 columns]"
      ]
     },
     "execution_count": 63,
     "metadata": {},
     "output_type": "execute_result"
    }
   ],
   "source": [
    "tfidf = TfidfVectorizer(stop_words='english', max_features=5000)\n",
    "dtm = tfidf.fit_transform(data)\n",
    "dtm = pd.DataFrame(dtm.todense(), columns=tfidf.get_feature_names())\n",
    "dtm.head()"
   ]
  },
  {
   "cell_type": "code",
   "execution_count": 66,
   "id": "d9a39df1-5ab2-47c2-a2de-39cd0eff5a63",
   "metadata": {},
   "outputs": [],
   "source": [
    "def tokenize(document):\n",
    "    doc = nlp(document)\n",
    "    return [token.lemma_.strip() for token in doc if (token.is_stop != True) and (token.is_punct != True)]"
   ]
  },
  {
   "cell_type": "code",
   "execution_count": 67,
   "id": "c14e5349-e595-4d27-89db-7439e380b4f3",
   "metadata": {},
   "outputs": [
    {
     "name": "stderr",
     "output_type": "stream",
     "text": [
      "/Users/jeffkang/.local/share/virtualenvs/DS-Unit-4-Sprint-1-NLP-oR_Dfgyc/lib/python3.9/site-packages/sklearn/feature_extraction/text.py:396: UserWarning: Your stop_words may be inconsistent with your preprocessing. Tokenizing the stop words generated tokens ['nt'] not in stop_words.\n",
      "  warnings.warn(\n",
      "/Users/jeffkang/.local/share/virtualenvs/DS-Unit-4-Sprint-1-NLP-oR_Dfgyc/lib/python3.9/site-packages/sklearn/utils/deprecation.py:87: FutureWarning: Function get_feature_names is deprecated; get_feature_names is deprecated in 1.0 and will be removed in 1.2. Please use get_feature_names_out instead.\n",
      "  warnings.warn(msg, category=FutureWarning)\n"
     ]
    },
    {
     "data": {
      "text/html": [
       "<div>\n",
       "<style scoped>\n",
       "    .dataframe tbody tr th:only-of-type {\n",
       "        vertical-align: middle;\n",
       "    }\n",
       "\n",
       "    .dataframe tbody tr th {\n",
       "        vertical-align: top;\n",
       "    }\n",
       "\n",
       "    .dataframe thead th {\n",
       "        text-align: right;\n",
       "    }\n",
       "</style>\n",
       "<table border=\"1\" class=\"dataframe\">\n",
       "  <thead>\n",
       "    <tr style=\"text-align: right;\">\n",
       "      <th></th>\n",
       "      <th>10</th>\n",
       "      <th>15</th>\n",
       "      <th>2004</th>\n",
       "      <th>22</th>\n",
       "      <th>50</th>\n",
       "      <th>ability</th>\n",
       "      <th>accord</th>\n",
       "      <th>add</th>\n",
       "      <th>airline</th>\n",
       "      <th>announce</th>\n",
       "      <th>...</th>\n",
       "      <th>£ 11.5</th>\n",
       "      <th>£ 132</th>\n",
       "      <th>£ 2,000</th>\n",
       "      <th>£ 20</th>\n",
       "      <th>£ 339</th>\n",
       "      <th>£ 4.99</th>\n",
       "      <th>£ 40</th>\n",
       "      <th>£ 5</th>\n",
       "      <th>£ 50</th>\n",
       "      <th>£ 99</th>\n",
       "    </tr>\n",
       "  </thead>\n",
       "  <tbody>\n",
       "    <tr>\n",
       "      <th>0</th>\n",
       "      <td>0.0</td>\n",
       "      <td>0.0</td>\n",
       "      <td>0.0</td>\n",
       "      <td>0.0</td>\n",
       "      <td>0.0</td>\n",
       "      <td>0.0</td>\n",
       "      <td>0.000000</td>\n",
       "      <td>0.0</td>\n",
       "      <td>0.0</td>\n",
       "      <td>0.0</td>\n",
       "      <td>...</td>\n",
       "      <td>0.0</td>\n",
       "      <td>0.0</td>\n",
       "      <td>0.0</td>\n",
       "      <td>0.0</td>\n",
       "      <td>0.0</td>\n",
       "      <td>0.0</td>\n",
       "      <td>0.0</td>\n",
       "      <td>0.0</td>\n",
       "      <td>0.0</td>\n",
       "      <td>0.0</td>\n",
       "    </tr>\n",
       "    <tr>\n",
       "      <th>1</th>\n",
       "      <td>0.0</td>\n",
       "      <td>0.0</td>\n",
       "      <td>0.0</td>\n",
       "      <td>0.0</td>\n",
       "      <td>0.0</td>\n",
       "      <td>0.0</td>\n",
       "      <td>0.034733</td>\n",
       "      <td>0.0</td>\n",
       "      <td>0.0</td>\n",
       "      <td>0.0</td>\n",
       "      <td>...</td>\n",
       "      <td>0.0</td>\n",
       "      <td>0.0</td>\n",
       "      <td>0.0</td>\n",
       "      <td>0.0</td>\n",
       "      <td>0.0</td>\n",
       "      <td>0.0</td>\n",
       "      <td>0.0</td>\n",
       "      <td>0.0</td>\n",
       "      <td>0.0</td>\n",
       "      <td>0.0</td>\n",
       "    </tr>\n",
       "    <tr>\n",
       "      <th>2</th>\n",
       "      <td>0.0</td>\n",
       "      <td>0.0</td>\n",
       "      <td>0.0</td>\n",
       "      <td>0.0</td>\n",
       "      <td>0.0</td>\n",
       "      <td>0.0</td>\n",
       "      <td>0.000000</td>\n",
       "      <td>0.0</td>\n",
       "      <td>0.0</td>\n",
       "      <td>0.0</td>\n",
       "      <td>...</td>\n",
       "      <td>0.0</td>\n",
       "      <td>0.0</td>\n",
       "      <td>0.0</td>\n",
       "      <td>0.0</td>\n",
       "      <td>0.0</td>\n",
       "      <td>0.0</td>\n",
       "      <td>0.0</td>\n",
       "      <td>0.0</td>\n",
       "      <td>0.0</td>\n",
       "      <td>0.0</td>\n",
       "    </tr>\n",
       "    <tr>\n",
       "      <th>3</th>\n",
       "      <td>0.0</td>\n",
       "      <td>0.0</td>\n",
       "      <td>0.0</td>\n",
       "      <td>0.0</td>\n",
       "      <td>0.0</td>\n",
       "      <td>0.0</td>\n",
       "      <td>0.000000</td>\n",
       "      <td>0.0</td>\n",
       "      <td>0.0</td>\n",
       "      <td>0.0</td>\n",
       "      <td>...</td>\n",
       "      <td>0.0</td>\n",
       "      <td>0.0</td>\n",
       "      <td>0.0</td>\n",
       "      <td>0.0</td>\n",
       "      <td>0.0</td>\n",
       "      <td>0.0</td>\n",
       "      <td>0.0</td>\n",
       "      <td>0.0</td>\n",
       "      <td>0.0</td>\n",
       "      <td>0.0</td>\n",
       "    </tr>\n",
       "    <tr>\n",
       "      <th>4</th>\n",
       "      <td>0.0</td>\n",
       "      <td>0.0</td>\n",
       "      <td>0.0</td>\n",
       "      <td>0.0</td>\n",
       "      <td>0.0</td>\n",
       "      <td>0.0</td>\n",
       "      <td>0.000000</td>\n",
       "      <td>0.0</td>\n",
       "      <td>0.0</td>\n",
       "      <td>0.0</td>\n",
       "      <td>...</td>\n",
       "      <td>0.0</td>\n",
       "      <td>0.0</td>\n",
       "      <td>0.0</td>\n",
       "      <td>0.0</td>\n",
       "      <td>0.0</td>\n",
       "      <td>0.0</td>\n",
       "      <td>0.0</td>\n",
       "      <td>0.0</td>\n",
       "      <td>0.0</td>\n",
       "      <td>0.0</td>\n",
       "    </tr>\n",
       "  </tbody>\n",
       "</table>\n",
       "<p>5 rows × 8234 columns</p>\n",
       "</div>"
      ],
      "text/plain": [
       "    10   15   2004   22   50   ability    accord   add   airline   announce  \\\n",
       "0  0.0  0.0    0.0  0.0  0.0       0.0  0.000000   0.0       0.0        0.0   \n",
       "1  0.0  0.0    0.0  0.0  0.0       0.0  0.034733   0.0       0.0        0.0   \n",
       "2  0.0  0.0    0.0  0.0  0.0       0.0  0.000000   0.0       0.0        0.0   \n",
       "3  0.0  0.0    0.0  0.0  0.0       0.0  0.000000   0.0       0.0        0.0   \n",
       "4  0.0  0.0    0.0  0.0  0.0       0.0  0.000000   0.0       0.0        0.0   \n",
       "\n",
       "   ...  £ 11.5  £ 132  £ 2,000  £ 20  £ 339  £ 4.99  £ 40  £ 5  £ 50  £ 99  \n",
       "0  ...     0.0    0.0      0.0   0.0    0.0     0.0   0.0  0.0   0.0   0.0  \n",
       "1  ...     0.0    0.0      0.0   0.0    0.0     0.0   0.0  0.0   0.0   0.0  \n",
       "2  ...     0.0    0.0      0.0   0.0    0.0     0.0   0.0  0.0   0.0   0.0  \n",
       "3  ...     0.0    0.0      0.0   0.0    0.0     0.0   0.0  0.0   0.0   0.0  \n",
       "4  ...     0.0    0.0      0.0   0.0    0.0     0.0   0.0  0.0   0.0   0.0  \n",
       "\n",
       "[5 rows x 8234 columns]"
      ]
     },
     "execution_count": 67,
     "metadata": {},
     "output_type": "execute_result"
    }
   ],
   "source": [
    "tfidf = TfidfVectorizer(stop_words='english',\n",
    "                        ngram_range=(1,2),\n",
    "                        max_df=.97,\n",
    "                        min_df=3,\n",
    "                        tokenizer=tokenize)\n",
    "dtm = tfidf.fit_transform(data)\n",
    "dtm = pd.DataFrame(dtm.todense(), columns=tfidf.get_feature_names())\n",
    "dtm.head()"
   ]
  },
  {
   "cell_type": "code",
   "execution_count": 68,
   "id": "e619fcaa-ee47-4e5d-957a-9cedbbcae6ad",
   "metadata": {},
   "outputs": [
    {
     "data": {
      "text/plain": [
       "(401, 8234)"
      ]
     },
     "execution_count": 68,
     "metadata": {},
     "output_type": "execute_result"
    }
   ],
   "source": [
    "dtm.shape"
   ]
  },
  {
   "cell_type": "code",
   "execution_count": 69,
   "id": "3ed99b21-9316-45d9-99ac-8a8082331860",
   "metadata": {},
   "outputs": [],
   "source": [
    "dist_matrix = cosine_similarity(dtm)"
   ]
  },
  {
   "cell_type": "code",
   "execution_count": 70,
   "id": "4bb71bb2-384b-41a2-8d71-5ec8bd72fad8",
   "metadata": {},
   "outputs": [],
   "source": [
    "df = pd.DataFrame(dist_matrix)"
   ]
  },
  {
   "cell_type": "code",
   "execution_count": 73,
   "id": "83af2b2d-4588-4d5f-afb9-dd6ef6d78b8a",
   "metadata": {},
   "outputs": [
    {
     "data": {
      "text/plain": [
       "(401, 401)"
      ]
     },
     "metadata": {},
     "output_type": "display_data"
    },
    {
     "data": {
      "text/html": [
       "<div>\n",
       "<style scoped>\n",
       "    .dataframe tbody tr th:only-of-type {\n",
       "        vertical-align: middle;\n",
       "    }\n",
       "\n",
       "    .dataframe tbody tr th {\n",
       "        vertical-align: top;\n",
       "    }\n",
       "\n",
       "    .dataframe thead th {\n",
       "        text-align: right;\n",
       "    }\n",
       "</style>\n",
       "<table border=\"1\" class=\"dataframe\">\n",
       "  <thead>\n",
       "    <tr style=\"text-align: right;\">\n",
       "      <th></th>\n",
       "      <th>0</th>\n",
       "      <th>1</th>\n",
       "      <th>2</th>\n",
       "      <th>3</th>\n",
       "      <th>4</th>\n",
       "      <th>5</th>\n",
       "      <th>6</th>\n",
       "      <th>7</th>\n",
       "      <th>8</th>\n",
       "      <th>9</th>\n",
       "      <th>...</th>\n",
       "      <th>391</th>\n",
       "      <th>392</th>\n",
       "      <th>393</th>\n",
       "      <th>394</th>\n",
       "      <th>395</th>\n",
       "      <th>396</th>\n",
       "      <th>397</th>\n",
       "      <th>398</th>\n",
       "      <th>399</th>\n",
       "      <th>400</th>\n",
       "    </tr>\n",
       "  </thead>\n",
       "  <tbody>\n",
       "    <tr>\n",
       "      <th>0</th>\n",
       "      <td>1.000000</td>\n",
       "      <td>0.024262</td>\n",
       "      <td>0.009818</td>\n",
       "      <td>0.016531</td>\n",
       "      <td>0.019463</td>\n",
       "      <td>0.035255</td>\n",
       "      <td>0.005015</td>\n",
       "      <td>0.010819</td>\n",
       "      <td>0.018646</td>\n",
       "      <td>0.013423</td>\n",
       "      <td>...</td>\n",
       "      <td>0.006314</td>\n",
       "      <td>0.011297</td>\n",
       "      <td>0.011503</td>\n",
       "      <td>0.021066</td>\n",
       "      <td>0.015122</td>\n",
       "      <td>0.006871</td>\n",
       "      <td>0.011378</td>\n",
       "      <td>0.032704</td>\n",
       "      <td>0.013616</td>\n",
       "      <td>0.035136</td>\n",
       "    </tr>\n",
       "    <tr>\n",
       "      <th>1</th>\n",
       "      <td>0.024262</td>\n",
       "      <td>1.000000</td>\n",
       "      <td>0.015814</td>\n",
       "      <td>0.056103</td>\n",
       "      <td>0.028265</td>\n",
       "      <td>0.068635</td>\n",
       "      <td>0.015282</td>\n",
       "      <td>0.025611</td>\n",
       "      <td>0.025558</td>\n",
       "      <td>0.029017</td>\n",
       "      <td>...</td>\n",
       "      <td>0.064489</td>\n",
       "      <td>0.037018</td>\n",
       "      <td>0.032574</td>\n",
       "      <td>0.035007</td>\n",
       "      <td>0.028980</td>\n",
       "      <td>0.040772</td>\n",
       "      <td>0.043008</td>\n",
       "      <td>0.035147</td>\n",
       "      <td>0.034915</td>\n",
       "      <td>0.068568</td>\n",
       "    </tr>\n",
       "    <tr>\n",
       "      <th>2</th>\n",
       "      <td>0.009818</td>\n",
       "      <td>0.015814</td>\n",
       "      <td>1.000000</td>\n",
       "      <td>0.015810</td>\n",
       "      <td>0.021603</td>\n",
       "      <td>0.029559</td>\n",
       "      <td>0.230110</td>\n",
       "      <td>0.224922</td>\n",
       "      <td>0.015153</td>\n",
       "      <td>0.072542</td>\n",
       "      <td>...</td>\n",
       "      <td>0.020925</td>\n",
       "      <td>0.031420</td>\n",
       "      <td>0.067577</td>\n",
       "      <td>0.043039</td>\n",
       "      <td>0.031779</td>\n",
       "      <td>0.048366</td>\n",
       "      <td>0.161999</td>\n",
       "      <td>0.050837</td>\n",
       "      <td>0.075845</td>\n",
       "      <td>0.024297</td>\n",
       "    </tr>\n",
       "    <tr>\n",
       "      <th>3</th>\n",
       "      <td>0.016531</td>\n",
       "      <td>0.056103</td>\n",
       "      <td>0.015810</td>\n",
       "      <td>1.000000</td>\n",
       "      <td>0.050373</td>\n",
       "      <td>0.065334</td>\n",
       "      <td>0.017884</td>\n",
       "      <td>0.014069</td>\n",
       "      <td>0.167900</td>\n",
       "      <td>0.039815</td>\n",
       "      <td>...</td>\n",
       "      <td>0.029717</td>\n",
       "      <td>0.018186</td>\n",
       "      <td>0.064041</td>\n",
       "      <td>0.079373</td>\n",
       "      <td>0.091745</td>\n",
       "      <td>0.026381</td>\n",
       "      <td>0.016614</td>\n",
       "      <td>0.042346</td>\n",
       "      <td>0.037794</td>\n",
       "      <td>0.065001</td>\n",
       "    </tr>\n",
       "    <tr>\n",
       "      <th>4</th>\n",
       "      <td>0.019463</td>\n",
       "      <td>0.028265</td>\n",
       "      <td>0.021603</td>\n",
       "      <td>0.050373</td>\n",
       "      <td>1.000000</td>\n",
       "      <td>0.063013</td>\n",
       "      <td>0.013527</td>\n",
       "      <td>0.021948</td>\n",
       "      <td>0.054264</td>\n",
       "      <td>0.050800</td>\n",
       "      <td>...</td>\n",
       "      <td>0.090229</td>\n",
       "      <td>0.083483</td>\n",
       "      <td>0.106182</td>\n",
       "      <td>0.143000</td>\n",
       "      <td>0.231250</td>\n",
       "      <td>0.087713</td>\n",
       "      <td>0.031691</td>\n",
       "      <td>0.070180</td>\n",
       "      <td>0.027745</td>\n",
       "      <td>0.127698</td>\n",
       "    </tr>\n",
       "  </tbody>\n",
       "</table>\n",
       "<p>5 rows × 401 columns</p>\n",
       "</div>"
      ],
      "text/plain": [
       "        0         1         2         3         4         5         6    \\\n",
       "0  1.000000  0.024262  0.009818  0.016531  0.019463  0.035255  0.005015   \n",
       "1  0.024262  1.000000  0.015814  0.056103  0.028265  0.068635  0.015282   \n",
       "2  0.009818  0.015814  1.000000  0.015810  0.021603  0.029559  0.230110   \n",
       "3  0.016531  0.056103  0.015810  1.000000  0.050373  0.065334  0.017884   \n",
       "4  0.019463  0.028265  0.021603  0.050373  1.000000  0.063013  0.013527   \n",
       "\n",
       "        7         8         9    ...       391       392       393       394  \\\n",
       "0  0.010819  0.018646  0.013423  ...  0.006314  0.011297  0.011503  0.021066   \n",
       "1  0.025611  0.025558  0.029017  ...  0.064489  0.037018  0.032574  0.035007   \n",
       "2  0.224922  0.015153  0.072542  ...  0.020925  0.031420  0.067577  0.043039   \n",
       "3  0.014069  0.167900  0.039815  ...  0.029717  0.018186  0.064041  0.079373   \n",
       "4  0.021948  0.054264  0.050800  ...  0.090229  0.083483  0.106182  0.143000   \n",
       "\n",
       "        395       396       397       398       399       400  \n",
       "0  0.015122  0.006871  0.011378  0.032704  0.013616  0.035136  \n",
       "1  0.028980  0.040772  0.043008  0.035147  0.034915  0.068568  \n",
       "2  0.031779  0.048366  0.161999  0.050837  0.075845  0.024297  \n",
       "3  0.091745  0.026381  0.016614  0.042346  0.037794  0.065001  \n",
       "4  0.231250  0.087713  0.031691  0.070180  0.027745  0.127698  \n",
       "\n",
       "[5 rows x 401 columns]"
      ]
     },
     "metadata": {},
     "output_type": "display_data"
    }
   ],
   "source": [
    "display(df.shape)\n",
    "display(df.head())"
   ]
  },
  {
   "cell_type": "code",
   "execution_count": 74,
   "id": "fa90ef18-0434-4b05-b54e-18f5202a312c",
   "metadata": {},
   "outputs": [
    {
     "data": {
      "text/plain": [
       "b'Ink helps drive democracy in Asia\\n\\nThe Kyrgyz Republic, a small, mountainous state of the former Sov'"
      ]
     },
     "execution_count": 74,
     "metadata": {},
     "output_type": "execute_result"
    }
   ],
   "source": [
    "data[0][:100]"
   ]
  },
  {
   "cell_type": "code",
   "execution_count": 75,
   "id": "588ed339-9a13-4417-ae11-4aab334b42c9",
   "metadata": {},
   "outputs": [
    {
     "data": {
      "text/plain": [
       "0    1.000000\n",
       "1    0.024262\n",
       "2    0.009818\n",
       "3    0.016531\n",
       "4    0.019463\n",
       "Name: 0, dtype: float64"
      ]
     },
     "execution_count": 75,
     "metadata": {},
     "output_type": "execute_result"
    }
   ],
   "source": [
    "df[0][:5]"
   ]
  },
  {
   "cell_type": "code",
   "execution_count": 76,
   "id": "2ee348e7-ab2d-44c0-880b-baf6500e74e2",
   "metadata": {},
   "outputs": [
    {
     "data": {
      "text/plain": [
       "332    0.252165\n",
       "36     0.207818\n",
       "242    0.103224\n",
       "100    0.100952\n",
       "208    0.098790\n",
       "Name: 0, dtype: float64"
      ]
     },
     "execution_count": 76,
     "metadata": {},
     "output_type": "execute_result"
    }
   ],
   "source": [
    "df[df[0] < 1][0].sort_values(ascending=False)[:5] "
   ]
  },
  {
   "cell_type": "code",
   "execution_count": 79,
   "id": "4d452f79-a12b-44ae-8e22-ec5af85ffdec",
   "metadata": {},
   "outputs": [
    {
     "name": "stdout",
     "output_type": "stream",
     "text": [
      "b'Ink helps drive democracy in Asia\\n\\nThe Kyrgyz Republic, a small, mountainous state of the former Soviet republic, is using invisible ink and ultraviol'\n",
      "b'US woman sues over ink cartridges\\n\\nA US woman is suing Hewlett Packard (HP), saying its printer ink cartridges are secretly programmed to expire on a '\n"
     ]
    }
   ],
   "source": [
    "print(data[0][:150])\n",
    "print(data[332][:150])"
   ]
  },
  {
   "cell_type": "code",
   "execution_count": 80,
   "id": "d885a5bd-808d-49b5-baed-472910fca804",
   "metadata": {},
   "outputs": [
    {
     "data": {
      "text/html": [
       "<div>\n",
       "<style scoped>\n",
       "    .dataframe tbody tr th:only-of-type {\n",
       "        vertical-align: middle;\n",
       "    }\n",
       "\n",
       "    .dataframe tbody tr th {\n",
       "        vertical-align: top;\n",
       "    }\n",
       "\n",
       "    .dataframe thead th {\n",
       "        text-align: right;\n",
       "    }\n",
       "</style>\n",
       "<table border=\"1\" class=\"dataframe\">\n",
       "  <thead>\n",
       "    <tr style=\"text-align: right;\">\n",
       "      <th></th>\n",
       "      <th>10</th>\n",
       "      <th>15</th>\n",
       "      <th>2004</th>\n",
       "      <th>22</th>\n",
       "      <th>50</th>\n",
       "      <th>ability</th>\n",
       "      <th>accord</th>\n",
       "      <th>add</th>\n",
       "      <th>airline</th>\n",
       "      <th>announce</th>\n",
       "      <th>...</th>\n",
       "      <th>£ 11.5</th>\n",
       "      <th>£ 132</th>\n",
       "      <th>£ 2,000</th>\n",
       "      <th>£ 20</th>\n",
       "      <th>£ 339</th>\n",
       "      <th>£ 4.99</th>\n",
       "      <th>£ 40</th>\n",
       "      <th>£ 5</th>\n",
       "      <th>£ 50</th>\n",
       "      <th>£ 99</th>\n",
       "    </tr>\n",
       "  </thead>\n",
       "  <tbody>\n",
       "    <tr>\n",
       "      <th>0</th>\n",
       "      <td>0.0</td>\n",
       "      <td>0.0</td>\n",
       "      <td>0.0</td>\n",
       "      <td>0.0</td>\n",
       "      <td>0.0</td>\n",
       "      <td>0.0</td>\n",
       "      <td>0.000000</td>\n",
       "      <td>0.0</td>\n",
       "      <td>0.0</td>\n",
       "      <td>0.0</td>\n",
       "      <td>...</td>\n",
       "      <td>0.0</td>\n",
       "      <td>0.0</td>\n",
       "      <td>0.0</td>\n",
       "      <td>0.0</td>\n",
       "      <td>0.0</td>\n",
       "      <td>0.0</td>\n",
       "      <td>0.0</td>\n",
       "      <td>0.0</td>\n",
       "      <td>0.0</td>\n",
       "      <td>0.0</td>\n",
       "    </tr>\n",
       "    <tr>\n",
       "      <th>1</th>\n",
       "      <td>0.0</td>\n",
       "      <td>0.0</td>\n",
       "      <td>0.0</td>\n",
       "      <td>0.0</td>\n",
       "      <td>0.0</td>\n",
       "      <td>0.0</td>\n",
       "      <td>0.034733</td>\n",
       "      <td>0.0</td>\n",
       "      <td>0.0</td>\n",
       "      <td>0.0</td>\n",
       "      <td>...</td>\n",
       "      <td>0.0</td>\n",
       "      <td>0.0</td>\n",
       "      <td>0.0</td>\n",
       "      <td>0.0</td>\n",
       "      <td>0.0</td>\n",
       "      <td>0.0</td>\n",
       "      <td>0.0</td>\n",
       "      <td>0.0</td>\n",
       "      <td>0.0</td>\n",
       "      <td>0.0</td>\n",
       "    </tr>\n",
       "    <tr>\n",
       "      <th>2</th>\n",
       "      <td>0.0</td>\n",
       "      <td>0.0</td>\n",
       "      <td>0.0</td>\n",
       "      <td>0.0</td>\n",
       "      <td>0.0</td>\n",
       "      <td>0.0</td>\n",
       "      <td>0.000000</td>\n",
       "      <td>0.0</td>\n",
       "      <td>0.0</td>\n",
       "      <td>0.0</td>\n",
       "      <td>...</td>\n",
       "      <td>0.0</td>\n",
       "      <td>0.0</td>\n",
       "      <td>0.0</td>\n",
       "      <td>0.0</td>\n",
       "      <td>0.0</td>\n",
       "      <td>0.0</td>\n",
       "      <td>0.0</td>\n",
       "      <td>0.0</td>\n",
       "      <td>0.0</td>\n",
       "      <td>0.0</td>\n",
       "    </tr>\n",
       "    <tr>\n",
       "      <th>3</th>\n",
       "      <td>0.0</td>\n",
       "      <td>0.0</td>\n",
       "      <td>0.0</td>\n",
       "      <td>0.0</td>\n",
       "      <td>0.0</td>\n",
       "      <td>0.0</td>\n",
       "      <td>0.000000</td>\n",
       "      <td>0.0</td>\n",
       "      <td>0.0</td>\n",
       "      <td>0.0</td>\n",
       "      <td>...</td>\n",
       "      <td>0.0</td>\n",
       "      <td>0.0</td>\n",
       "      <td>0.0</td>\n",
       "      <td>0.0</td>\n",
       "      <td>0.0</td>\n",
       "      <td>0.0</td>\n",
       "      <td>0.0</td>\n",
       "      <td>0.0</td>\n",
       "      <td>0.0</td>\n",
       "      <td>0.0</td>\n",
       "    </tr>\n",
       "    <tr>\n",
       "      <th>4</th>\n",
       "      <td>0.0</td>\n",
       "      <td>0.0</td>\n",
       "      <td>0.0</td>\n",
       "      <td>0.0</td>\n",
       "      <td>0.0</td>\n",
       "      <td>0.0</td>\n",
       "      <td>0.000000</td>\n",
       "      <td>0.0</td>\n",
       "      <td>0.0</td>\n",
       "      <td>0.0</td>\n",
       "      <td>...</td>\n",
       "      <td>0.0</td>\n",
       "      <td>0.0</td>\n",
       "      <td>0.0</td>\n",
       "      <td>0.0</td>\n",
       "      <td>0.0</td>\n",
       "      <td>0.0</td>\n",
       "      <td>0.0</td>\n",
       "      <td>0.0</td>\n",
       "      <td>0.0</td>\n",
       "      <td>0.0</td>\n",
       "    </tr>\n",
       "  </tbody>\n",
       "</table>\n",
       "<p>5 rows × 8234 columns</p>\n",
       "</div>"
      ],
      "text/plain": [
       "    10   15   2004   22   50   ability    accord   add   airline   announce  \\\n",
       "0  0.0  0.0    0.0  0.0  0.0       0.0  0.000000   0.0       0.0        0.0   \n",
       "1  0.0  0.0    0.0  0.0  0.0       0.0  0.034733   0.0       0.0        0.0   \n",
       "2  0.0  0.0    0.0  0.0  0.0       0.0  0.000000   0.0       0.0        0.0   \n",
       "3  0.0  0.0    0.0  0.0  0.0       0.0  0.000000   0.0       0.0        0.0   \n",
       "4  0.0  0.0    0.0  0.0  0.0       0.0  0.000000   0.0       0.0        0.0   \n",
       "\n",
       "   ...  £ 11.5  £ 132  £ 2,000  £ 20  £ 339  £ 4.99  £ 40  £ 5  £ 50  £ 99  \n",
       "0  ...     0.0    0.0      0.0   0.0    0.0     0.0   0.0  0.0   0.0   0.0  \n",
       "1  ...     0.0    0.0      0.0   0.0    0.0     0.0   0.0  0.0   0.0   0.0  \n",
       "2  ...     0.0    0.0      0.0   0.0    0.0     0.0   0.0  0.0   0.0   0.0  \n",
       "3  ...     0.0    0.0      0.0   0.0    0.0     0.0   0.0  0.0   0.0   0.0  \n",
       "4  ...     0.0    0.0      0.0   0.0    0.0     0.0   0.0  0.0   0.0   0.0  \n",
       "\n",
       "[5 rows x 8234 columns]"
      ]
     },
     "execution_count": 80,
     "metadata": {},
     "output_type": "execute_result"
    }
   ],
   "source": [
    "dtm.head()"
   ]
  },
  {
   "cell_type": "code",
   "execution_count": 81,
   "id": "8abbba67-d925-45bb-addc-b07db3811cd1",
   "metadata": {},
   "outputs": [
    {
     "data": {
      "text/plain": [
       "NearestNeighbors(algorithm='kd_tree')"
      ]
     },
     "execution_count": 81,
     "metadata": {},
     "output_type": "execute_result"
    }
   ],
   "source": [
    "nn = NearestNeighbors(n_neighbors=5, algorithm='kd_tree')\n",
    "nn.fit(dtm)"
   ]
  },
  {
   "cell_type": "code",
   "execution_count": 82,
   "id": "1af7e4a3-7f50-472f-93a2-a80ee9113794",
   "metadata": {},
   "outputs": [
    {
     "name": "stderr",
     "output_type": "stream",
     "text": [
      "/Users/jeffkang/.local/share/virtualenvs/DS-Unit-4-Sprint-1-NLP-oR_Dfgyc/lib/python3.9/site-packages/sklearn/base.py:445: UserWarning: X does not have valid feature names, but NearestNeighbors was fitted with feature names\n",
      "  warnings.warn(\n"
     ]
    },
    {
     "data": {
      "text/plain": [
       "(array([[0.        , 1.06320049, 1.19821186, 1.30385441, 1.33649651]]),\n",
       " array([[  1,  73, 185, 383, 365]]))"
      ]
     },
     "execution_count": 82,
     "metadata": {},
     "output_type": "execute_result"
    }
   ],
   "source": [
    "nn.kneighbors([dtm.iloc[1].values])"
   ]
  },
  {
   "cell_type": "code",
   "execution_count": 83,
   "id": "26f35c87-65d6-4dc2-9b06-4e4930f08bfa",
   "metadata": {},
   "outputs": [
    {
     "name": "stderr",
     "output_type": "stream",
     "text": [
      "/Users/jeffkang/.local/share/virtualenvs/DS-Unit-4-Sprint-1-NLP-oR_Dfgyc/lib/python3.9/site-packages/sklearn/base.py:445: UserWarning: X does not have valid feature names, but NearestNeighbors was fitted with feature names\n",
      "  warnings.warn(\n"
     ]
    },
    {
     "data": {
      "text/plain": [
       "(array([[0.        , 1.12058056, 1.19821186, 1.19918717, 1.20156818]]),\n",
       " array([[185,  73,   1,  75, 383]]))"
      ]
     },
     "execution_count": 83,
     "metadata": {},
     "output_type": "execute_result"
    }
   ],
   "source": [
    "nn.kneighbors([dtm.iloc[185].values])"
   ]
  },
  {
   "cell_type": "code",
   "execution_count": 84,
   "id": "e88114f7-6094-4c42-a6b2-011e53d522c6",
   "metadata": {},
   "outputs": [
    {
     "data": {
      "text/plain": [
       "b\"China 'blocks Google news site'\\n\\nChina has been accused of blocking access to Google News by the media watchdog, Reporters Without Borders.\\n\\nThe Paris-based pressure group said the English-language ne\""
      ]
     },
     "metadata": {},
     "output_type": "display_data"
    },
    {
     "data": {
      "text/plain": [
       "b\"China 'to overtake US net use'\\n\\nThe Chinese net-using population looks set to exceed that of the US in less than three years, says a report.\\n\\nChina's net users number 100m but this represents less tha\""
      ]
     },
     "metadata": {},
     "output_type": "display_data"
    }
   ],
   "source": [
    "display(data[185][:200])\n",
    "display(data[73][:200])"
   ]
  },
  {
   "cell_type": "code",
   "execution_count": 86,
   "id": "dd62f81d-91d2-47e1-a837-9b82a1bff3b0",
   "metadata": {},
   "outputs": [
    {
     "name": "stdout",
     "output_type": "stream",
     "text": [
      "[ 2.07984239e-01 -2.60890484e-01 -1.15457252e-01 -1.96443751e-01\n",
      " -2.83249468e-03  3.55849974e-02 -2.05170006e-01 -2.27374747e-01\n",
      "  8.56052488e-02  1.36894751e+00 -5.74124977e-02  8.06210041e-02\n",
      "  2.37275064e-02  1.17454052e-01 -6.53099641e-03 -1.24400005e-01\n",
      "  1.99086756e-01  6.37722552e-01  1.52916998e-01 -2.33504996e-01\n",
      " -2.40909994e-01 -7.11500049e-02 -9.10753161e-02  7.16734976e-02\n",
      "  1.16262749e-01 -3.91372502e-01  1.13048747e-01 -2.11327493e-01\n",
      "  1.09019078e-01 -2.44885415e-01  3.00577488e-02  4.77855802e-02\n",
      "  7.37800002e-02  2.57142037e-01  2.62586236e-01 -1.66897491e-01\n",
      "  1.87596500e-01 -1.23680010e-02 -1.76299751e-01  1.11685000e-01\n",
      "  1.82024967e-02  9.86500084e-03 -3.58770013e-01 -2.23265499e-01\n",
      " -4.37720008e-02  3.63999486e-01  7.42954984e-02  1.21225506e-01\n",
      "  1.37013003e-01 -5.50666526e-02  2.66017504e-02  8.87180045e-02\n",
      " -1.14092499e-01 -2.02865750e-01  3.63092512e-01 -3.08394760e-01\n",
      "  1.13859497e-01  3.13650146e-02  2.62076259e-01  1.90399922e-02\n",
      "  7.24634901e-02  2.79004984e-02  8.65525007e-02  6.92452565e-02\n",
      " -9.77424979e-02 -1.47966757e-01  2.32025003e-03  1.62278250e-01\n",
      "  1.59857497e-02  3.52048993e-01 -5.51802553e-02  2.13179991e-01\n",
      "  3.63152504e-01  1.01501703e-01  1.73463732e-01  9.20909941e-02\n",
      "  1.27134249e-01  1.00527555e-02  2.44570002e-01 -6.89124968e-03\n",
      "  6.30075037e-02  1.31706819e-01 -1.36811763e-01 -3.73892523e-02\n",
      " -1.71941705e-02 -1.47585243e-01  2.69147515e-01  1.97296605e-01\n",
      " -1.14209257e-01  7.49210045e-02  1.12407543e-02  6.53382465e-02\n",
      "  7.39065409e-02 -1.47568747e-01 -9.98437554e-02  2.56100774e-01\n",
      "  3.41899954e-02 -1.95817441e-01  1.52259752e-01 -2.98299998e-01\n",
      "  3.71480025e-02  1.38142243e-01 -3.84989977e-02 -2.02540010e-02\n",
      "  2.38000415e-03 -8.94232512e-01  1.20125249e-01 -1.48699433e-03\n",
      "  3.07812482e-01  1.31904989e-01  2.28665009e-01 -4.28467512e-01\n",
      " -1.50100499e-01 -3.99947166e-05  7.09750131e-03 -9.08460468e-02\n",
      "  1.15139998e-01  2.73323029e-01  6.97097555e-02  1.37960017e-01\n",
      " -7.76264742e-02 -3.58945057e-02  1.47073746e-01 -2.70538747e-01\n",
      " -4.16769907e-02 -2.20907256e-01  1.29162997e-01  5.66806756e-02\n",
      " -2.10923001e-01 -1.12912245e-01 -1.24349967e-02  2.90902629e-02\n",
      " -9.14399922e-02  1.48545001e-02  1.73015013e-01  2.45295018e-01\n",
      "  2.36412495e-01  1.51691005e-01 -6.30199909e-02  2.67812014e-01\n",
      " -1.31286001e+00 -7.58474991e-02  1.29823506e-01 -1.51231751e-01\n",
      " -8.19625035e-02  1.39788002e-01 -1.48047015e-01  6.38692454e-02\n",
      "  2.33854756e-01 -9.88075137e-03  1.93658501e-01  2.27525085e-03\n",
      "  4.02045511e-02 -4.90897447e-02 -3.33292484e-01 -2.25562245e-01\n",
      " -2.13249400e-03 -1.25110000e-01 -2.07584769e-01 -8.20675045e-02\n",
      " -3.08577478e-01  2.42340490e-01  1.01082012e-01  1.69142485e-02\n",
      " -2.96225518e-01 -2.39765748e-01 -2.06788242e-01 -2.19947502e-01\n",
      "  1.32491991e-01  2.83937510e-02 -2.12792531e-02  2.11183250e-01\n",
      "  7.47520030e-02  5.15667535e-02 -2.79584527e-01  5.96700013e-02\n",
      " -1.40897244e-01 -7.72149861e-03  9.76998210e-02 -2.29924992e-01\n",
      " -3.91512439e-02 -2.62144983e-01 -9.46324915e-02 -1.49488509e-01\n",
      " -4.47402522e-02  4.87175062e-02 -1.00491997e-02 -1.57508999e-01\n",
      "  1.83425248e-01 -7.38234967e-02 -5.53542078e-02  3.62554997e-01\n",
      "  6.00774996e-02 -3.51069048e-02 -2.12482512e-02 -5.44437282e-02\n",
      "  5.77000529e-03 -4.17417213e-02 -2.30720505e-01  3.05450335e-03\n",
      " -2.60736495e-01  9.90725309e-03  1.44257501e-01  1.58988327e-01\n",
      "  3.12480003e-01 -4.21992540e-02  1.47941500e-01 -2.60480493e-03\n",
      " -1.18254803e-01  3.76944989e-02  8.56549889e-02  2.98762500e-01\n",
      " -1.82907507e-01 -5.01237512e-01 -3.22812736e-01 -1.04721501e-01\n",
      " -2.11069018e-01 -1.58998221e-01 -1.63172990e-01 -1.53411508e-01\n",
      " -4.72389996e-01 -2.52688266e-02  6.80677444e-02 -3.47925007e-01\n",
      "  1.00139998e-01  3.17759998e-02 -2.02882513e-02  2.72649899e-02\n",
      "  2.80047543e-02  6.36423454e-02 -2.32529998e-01  1.78696245e-01\n",
      " -4.16299030e-02 -6.78092465e-02 -1.87866479e-01 -3.47625017e-01\n",
      "  5.43992445e-02 -1.05034754e-01  3.68332490e-02  2.01451257e-01\n",
      " -2.68060744e-01 -7.03077465e-02 -3.46807480e-01  1.18331507e-01\n",
      "  3.82332467e-02 -1.15444995e-01 -9.92614999e-02 -4.42850590e-03\n",
      " -3.42225015e-01  3.17104995e-01 -1.48628756e-01 -6.13242462e-02\n",
      " -8.43070000e-02  1.16139993e-01  1.61483496e-01  1.70949996e-01\n",
      "  1.95979327e-01  2.56112486e-01 -2.15889998e-02 -2.78974995e-02\n",
      "  2.59169757e-01  1.79182500e-01 -2.46662006e-01  1.68815508e-01\n",
      " -3.45774740e-03  2.30412483e-01 -1.22785002e-01  2.36632437e-01\n",
      " -4.52876002e-01 -3.92082512e-01 -2.01881751e-01 -1.27992496e-01\n",
      "  2.75517516e-02  5.54060042e-02 -3.12609941e-01  1.01338752e-01\n",
      "  1.83728248e-01  4.08405006e-01  1.23905048e-01  4.37955022e-01\n",
      "  2.54640013e-01 -6.01055101e-02 -2.90097505e-01  7.99837485e-02\n",
      "  6.81065023e-02  6.80774972e-02  1.45408496e-01 -1.65033251e-01\n",
      " -6.48526996e-02 -1.71237499e-01 -5.75472489e-02 -4.43175063e-03\n",
      "  2.72267759e-01 -2.11504504e-01 -2.87027508e-01  3.25110495e-01\n",
      " -4.72727492e-02 -3.86672527e-01  2.08224997e-01  1.24032997e-01]\n"
     ]
    }
   ],
   "source": [
    "nlp = spacy.load('en_core_web_lg')\n",
    "doc = nlp('Two bananas in pyjamas')\n",
    "bananas_vector = doc.vector\n",
    "print(bananas_vector)"
   ]
  },
  {
   "cell_type": "code",
   "execution_count": 87,
   "id": "c35804ad-76f1-43c2-aa44-13fc6411ca4f",
   "metadata": {},
   "outputs": [
    {
     "data": {
      "text/plain": [
       "300"
      ]
     },
     "execution_count": 87,
     "metadata": {},
     "output_type": "execute_result"
    }
   ],
   "source": [
    "len(bananas_vector)"
   ]
  },
  {
   "cell_type": "code",
   "execution_count": 89,
   "id": "966d3871-ef73-49ef-9334-045824017bbf",
   "metadata": {},
   "outputs": [
    {
     "name": "stdout",
     "output_type": "stream",
     "text": [
      "0.9237858156416685\n"
     ]
    }
   ],
   "source": [
    "doc1 = nlp(\"I do not like dogs\")\n",
    "doc2 = nlp(\"I like dogs.\")\n",
    "\n",
    "similarity = doc1.similarity(doc2)\n",
    "print(similarity)"
   ]
  },
  {
   "cell_type": "code",
   "execution_count": 95,
   "id": "82c2e89e-4b27-4f73-b030-16cbba2ca3f4",
   "metadata": {},
   "outputs": [
    {
     "data": {
      "text/plain": [
       "array([[ 5.26963187, -0.37100442],\n",
       "       [ 4.72929344,  0.1794414 ],\n",
       "       [ 4.47598865, -1.64013699],\n",
       "       [ 2.39999411, -0.33939468],\n",
       "       [-1.39927039, -2.06257828],\n",
       "       [-2.09150026, -0.68151188],\n",
       "       [-2.18801592, -1.67088976],\n",
       "       [-2.1066147 , -2.45387448],\n",
       "       [-1.62177188, -2.33377177],\n",
       "       [-1.80384573, -2.64626656],\n",
       "       [ 0.70518192,  0.02432584],\n",
       "       [-1.1161889 ,  5.24981021],\n",
       "       [-1.83469309, -0.26792143],\n",
       "       [-1.53253594,  0.86803528],\n",
       "       [-0.84059849,  0.10719955],\n",
       "       [-1.1161889 ,  5.24981021],\n",
       "       [ 0.07113423,  2.78872774]])"
      ]
     },
     "execution_count": 95,
     "metadata": {},
     "output_type": "execute_result"
    }
   ],
   "source": [
    "def get_word_vectors(words):\n",
    "    # converts a list of words into their word vectors\n",
    "    return [nlp(word).vector for word in words]\n",
    "\n",
    "words = ['car', 'truck', 'suv', 'race', 'elves', 'dragon', 'sword', 'king', 'queen', 'prince', 'horse', 'fish', 'lion', 'tiger', 'lynx', 'fish', 'potato']\n",
    "# initialize pca model and tell it to project data down onto 2 dimensions\n",
    "pca = PCA(n_components=2)\n",
    "\n",
    "# fit the pca model to our 300D data, this will work out which is the best\n",
    "# way to project the data down that will best maintain the relative distances\n",
    "# between data points. It will store these instuctions on how to transform\n",
    "pca.fit(get_word_vectors(words))\n",
    "\n",
    "# tell our (fitted) pca model to transform our 300D data down onto 2D using the\n",
    "# instructions it learnt during the fit phase.\n",
    "word_vecs_2d = pca.transform(get_word_vectors(words))\n",
    "\n",
    "# look at our new 2d word vectors\n",
    "word_vecs_2d"
   ]
  },
  {
   "cell_type": "code",
   "execution_count": 96,
   "id": "22f3cbd7-4903-4633-9e0d-d4a52e92ad3c",
   "metadata": {},
   "outputs": [
    {
     "data": {
      "image/png": "[encoded data removed]",
      "text/plain": [
       "<Figure size 1440x1080 with 1 Axes>"
      ]
     },
     "metadata": {
      "needs_background": "light"
     },
     "output_type": "display_data"
    }
   ],
   "source": [
    "plt.figure(figsize=(20,15))\n",
    "\n",
    "plt.scatter(word_vecs_2d[:,0], word_vecs_2d[:,1])\n",
    "\n",
    "for word, coord in zip(words, word_vecs_2d):\n",
    "    x, y = coord\n",
    "    plt.text(x, y, word, size=15)\n",
    "plt.show()"
   ]
  },
  {
   "cell_type": "code",
   "execution_count": 98,
   "id": "762a905e-38b3-457c-be38-b6a476016728",
   "metadata": {},
   "outputs": [],
   "source": [
    "X = [nlp(str(d)).vector for d in data]\n",
    "df = pd.DataFrame(X)"
   ]
  },
  {
   "cell_type": "code",
   "execution_count": 99,
   "id": "56aa37ac-be62-46db-a5e0-bbe041e385b4",
   "metadata": {},
   "outputs": [
    {
     "data": {
      "text/plain": [
       "(401, 300)"
      ]
     },
     "metadata": {},
     "output_type": "display_data"
    },
    {
     "data": {
      "text/html": [
       "<div>\n",
       "<style scoped>\n",
       "    .dataframe tbody tr th:only-of-type {\n",
       "        vertical-align: middle;\n",
       "    }\n",
       "\n",
       "    .dataframe tbody tr th {\n",
       "        vertical-align: top;\n",
       "    }\n",
       "\n",
       "    .dataframe thead th {\n",
       "        text-align: right;\n",
       "    }\n",
       "</style>\n",
       "<table border=\"1\" class=\"dataframe\">\n",
       "  <thead>\n",
       "    <tr style=\"text-align: right;\">\n",
       "      <th></th>\n",
       "      <th>0</th>\n",
       "      <th>1</th>\n",
       "      <th>2</th>\n",
       "      <th>3</th>\n",
       "      <th>4</th>\n",
       "      <th>5</th>\n",
       "      <th>6</th>\n",
       "      <th>7</th>\n",
       "      <th>8</th>\n",
       "      <th>9</th>\n",
       "      <th>...</th>\n",
       "      <th>290</th>\n",
       "      <th>291</th>\n",
       "      <th>292</th>\n",
       "      <th>293</th>\n",
       "      <th>294</th>\n",
       "      <th>295</th>\n",
       "      <th>296</th>\n",
       "      <th>297</th>\n",
       "      <th>298</th>\n",
       "      <th>299</th>\n",
       "    </tr>\n",
       "  </thead>\n",
       "  <tbody>\n",
       "    <tr>\n",
       "      <th>0</th>\n",
       "      <td>-0.040508</td>\n",
       "      <td>0.118313</td>\n",
       "      <td>-0.059275</td>\n",
       "      <td>-0.018551</td>\n",
       "      <td>0.028807</td>\n",
       "      <td>-0.012388</td>\n",
       "      <td>-0.045898</td>\n",
       "      <td>-0.001236</td>\n",
       "      <td>-0.010094</td>\n",
       "      <td>2.107986</td>\n",
       "      <td>...</td>\n",
       "      <td>-0.226307</td>\n",
       "      <td>0.048829</td>\n",
       "      <td>0.066400</td>\n",
       "      <td>-0.085754</td>\n",
       "      <td>-0.051722</td>\n",
       "      <td>0.006362</td>\n",
       "      <td>0.002462</td>\n",
       "      <td>-0.057015</td>\n",
       "      <td>-0.007771</td>\n",
       "      <td>0.088315</td>\n",
       "    </tr>\n",
       "    <tr>\n",
       "      <th>1</th>\n",
       "      <td>-0.001170</td>\n",
       "      <td>0.094481</td>\n",
       "      <td>-0.090321</td>\n",
       "      <td>-0.056536</td>\n",
       "      <td>0.075293</td>\n",
       "      <td>-0.035214</td>\n",
       "      <td>0.001944</td>\n",
       "      <td>-0.045513</td>\n",
       "      <td>0.052784</td>\n",
       "      <td>2.203317</td>\n",
       "      <td>...</td>\n",
       "      <td>-0.225346</td>\n",
       "      <td>0.014044</td>\n",
       "      <td>0.065145</td>\n",
       "      <td>-0.002483</td>\n",
       "      <td>-0.030395</td>\n",
       "      <td>-0.006571</td>\n",
       "      <td>0.005746</td>\n",
       "      <td>-0.084917</td>\n",
       "      <td>0.037098</td>\n",
       "      <td>0.140163</td>\n",
       "    </tr>\n",
       "    <tr>\n",
       "      <th>2</th>\n",
       "      <td>-0.115597</td>\n",
       "      <td>0.141120</td>\n",
       "      <td>-0.099435</td>\n",
       "      <td>-0.034110</td>\n",
       "      <td>-0.020472</td>\n",
       "      <td>0.002247</td>\n",
       "      <td>0.023609</td>\n",
       "      <td>-0.239514</td>\n",
       "      <td>0.024079</td>\n",
       "      <td>1.922905</td>\n",
       "      <td>...</td>\n",
       "      <td>-0.177707</td>\n",
       "      <td>0.083151</td>\n",
       "      <td>0.071212</td>\n",
       "      <td>0.090530</td>\n",
       "      <td>0.072955</td>\n",
       "      <td>-0.065791</td>\n",
       "      <td>-0.026913</td>\n",
       "      <td>-0.052953</td>\n",
       "      <td>-0.019003</td>\n",
       "      <td>0.110700</td>\n",
       "    </tr>\n",
       "    <tr>\n",
       "      <th>3</th>\n",
       "      <td>-0.057802</td>\n",
       "      <td>0.177254</td>\n",
       "      <td>-0.059729</td>\n",
       "      <td>-0.047598</td>\n",
       "      <td>0.086353</td>\n",
       "      <td>-0.060286</td>\n",
       "      <td>-0.021713</td>\n",
       "      <td>-0.130302</td>\n",
       "      <td>0.009562</td>\n",
       "      <td>2.144755</td>\n",
       "      <td>...</td>\n",
       "      <td>-0.233238</td>\n",
       "      <td>0.006141</td>\n",
       "      <td>0.065824</td>\n",
       "      <td>-0.002070</td>\n",
       "      <td>-0.013150</td>\n",
       "      <td>-0.011400</td>\n",
       "      <td>-0.025868</td>\n",
       "      <td>-0.067189</td>\n",
       "      <td>-0.011133</td>\n",
       "      <td>0.071841</td>\n",
       "    </tr>\n",
       "    <tr>\n",
       "      <th>4</th>\n",
       "      <td>-0.022019</td>\n",
       "      <td>0.154302</td>\n",
       "      <td>-0.065393</td>\n",
       "      <td>-0.104091</td>\n",
       "      <td>0.094629</td>\n",
       "      <td>-0.004325</td>\n",
       "      <td>0.001518</td>\n",
       "      <td>-0.030950</td>\n",
       "      <td>-0.028366</td>\n",
       "      <td>2.113439</td>\n",
       "      <td>...</td>\n",
       "      <td>-0.276260</td>\n",
       "      <td>0.010026</td>\n",
       "      <td>0.032849</td>\n",
       "      <td>-0.005290</td>\n",
       "      <td>-0.052966</td>\n",
       "      <td>-0.031755</td>\n",
       "      <td>-0.029510</td>\n",
       "      <td>-0.034102</td>\n",
       "      <td>-0.024186</td>\n",
       "      <td>0.131415</td>\n",
       "    </tr>\n",
       "  </tbody>\n",
       "</table>\n",
       "<p>5 rows × 300 columns</p>\n",
       "</div>"
      ],
      "text/plain": [
       "        0         1         2         3         4         5         6    \\\n",
       "0 -0.040508  0.118313 -0.059275 -0.018551  0.028807 -0.012388 -0.045898   \n",
       "1 -0.001170  0.094481 -0.090321 -0.056536  0.075293 -0.035214  0.001944   \n",
       "2 -0.115597  0.141120 -0.099435 -0.034110 -0.020472  0.002247  0.023609   \n",
       "3 -0.057802  0.177254 -0.059729 -0.047598  0.086353 -0.060286 -0.021713   \n",
       "4 -0.022019  0.154302 -0.065393 -0.104091  0.094629 -0.004325  0.001518   \n",
       "\n",
       "        7         8         9    ...       290       291       292       293  \\\n",
       "0 -0.001236 -0.010094  2.107986  ... -0.226307  0.048829  0.066400 -0.085754   \n",
       "1 -0.045513  0.052784  2.203317  ... -0.225346  0.014044  0.065145 -0.002483   \n",
       "2 -0.239514  0.024079  1.922905  ... -0.177707  0.083151  0.071212  0.090530   \n",
       "3 -0.130302  0.009562  2.144755  ... -0.233238  0.006141  0.065824 -0.002070   \n",
       "4 -0.030950 -0.028366  2.113439  ... -0.276260  0.010026  0.032849 -0.005290   \n",
       "\n",
       "        294       295       296       297       298       299  \n",
       "0 -0.051722  0.006362  0.002462 -0.057015 -0.007771  0.088315  \n",
       "1 -0.030395 -0.006571  0.005746 -0.084917  0.037098  0.140163  \n",
       "2  0.072955 -0.065791 -0.026913 -0.052953 -0.019003  0.110700  \n",
       "3 -0.013150 -0.011400 -0.025868 -0.067189 -0.011133  0.071841  \n",
       "4 -0.052966 -0.031755 -0.029510 -0.034102 -0.024186  0.131415  \n",
       "\n",
       "[5 rows x 300 columns]"
      ]
     },
     "metadata": {},
     "output_type": "display_data"
    }
   ],
   "source": [
    "display(df.shape)\n",
    "display(df.head())"
   ]
  },
  {
   "cell_type": "code",
   "execution_count": null,
   "id": "590467c8-6dcb-4fb8-9924-447390ec986a",
   "metadata": {},
   "outputs": [],
   "source": []
  }
 ],
 "metadata": {
  "kernelspec": {
   "display_name": "Python 3 (ipykernel)",
   "language": "python",
   "name": "python3"
  },
  "language_info": {
   "codemirror_mode": {
    "name": "ipython",
    "version": 3
   },
   "file_extension": ".py",
   "mimetype": "text/x-python",
   "name": "python",
   "nbconvert_exporter": "python",
   "pygments_lexer": "ipython3",
   "version": "3.9.8"
  }
 },
 "nbformat": 4,
 "nbformat_minor": 5
}
