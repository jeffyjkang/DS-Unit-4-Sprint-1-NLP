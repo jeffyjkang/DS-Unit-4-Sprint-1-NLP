{
 "cells": [
  {
   "cell_type": "markdown",
   "id": "692e8a06-4c83-4e92-82bc-206749cf43cd",
   "metadata": {},
   "source": [
    "# Load Competition Data"
   ]
  },
  {
   "cell_type": "code",
   "execution_count": 37,
   "id": "4a0eed96-935d-417c-82e5-6850421494aa",
   "metadata": {},
   "outputs": [],
   "source": [
    "# import pandas as pd\n",
    "\n",
    "# train = pd.read_csv('./Kaggle Data/train.csv')\n",
    "# test = pd.read_csv('./Kaggle Data/test.csv')"
   ]
  },
  {
   "cell_type": "code",
   "execution_count": 39,
   "id": "33005ec4-7c98-47bb-a600-da400c95abc7",
   "metadata": {},
   "outputs": [],
   "source": [
    "# train.head()"
   ]
  },
  {
   "cell_type": "code",
   "execution_count": 28,
   "id": "e33bfc48-0fcf-480e-8226-b0be51e5bb46",
   "metadata": {},
   "outputs": [],
   "source": [
    "# imports\n",
    "from sklearn.pipeline import Pipeline\n",
    "from sklearn.datasets import fetch_20newsgroups\n",
    "from sklearn.ensemble import RandomForestClassifier\n",
    "from sklearn.model_selection import GridSearchCV, RandomizedSearchCV\n",
    "from sklearn.feature_extraction.text import TfidfVectorizer\n",
    "import scipy\n",
    "from sklearn.decomposition import TruncatedSVD\n",
    "import spacy"
   ]
  },
  {
   "cell_type": "code",
   "execution_count": 29,
   "id": "a13f6836-dba2-4b96-b61e-c96c86e24cef",
   "metadata": {},
   "outputs": [],
   "source": [
    "categories = ['talk.politics.misc', 'sci.space']\n",
    "data = fetch_20newsgroups(subset='train', categories=categories, remove=('headers', 'footers', 'quotes'))"
   ]
  },
  {
   "cell_type": "code",
   "execution_count": 30,
   "id": "4fb7a8e4-9e65-49a0-912c-6dbca9d990c2",
   "metadata": {},
   "outputs": [
    {
     "data": {
      "text/plain": [
       "dict_keys(['data', 'filenames', 'target_names', 'target', 'DESCR'])"
      ]
     },
     "metadata": {},
     "output_type": "display_data"
    },
    {
     "data": {
      "text/plain": [
       "(1058,)"
      ]
     },
     "metadata": {},
     "output_type": "display_data"
    },
    {
     "data": {
      "text/plain": [
       "' ajteel@dendrite.cs.Colorado.EDU (A.J. Teel) writes...\\n\\nOn whose authority do you have this and on what grounds was it \\ndismissed?\\n\\n\\t\\t\\t\\t\\t\\tDaniel Reitman\\n\\nHOW NOT TO WRITE A DEED\\n\\nOne case involved the construction of a conveyance to grantees \"jointly, as \\ntenants in common, with equal rights and interest in said land, and to the \\nsurvivor thereof, in fee simple. . . . To Have and to Hold the same unto the \\nsaid parties hereto, equally, jointly, as tenants in common, with equal rights \\nand interest for the period or term of their lives, and to the survivor thereof \\nat the death of the other.\"'"
      ]
     },
     "metadata": {},
     "output_type": "display_data"
    }
   ],
   "source": [
    "display(data.keys())\n",
    "display(data['target'].shape)\n",
    "display(data['data'][1])"
   ]
  },
  {
   "cell_type": "code",
   "execution_count": 31,
   "id": "5bd784a3-3001-4af9-9ded-ec10a48cfb9f",
   "metadata": {},
   "outputs": [],
   "source": [
    "vect = TfidfVectorizer(stop_words='english', ngram_range=(1,2))\n",
    "rfc = RandomForestClassifier()"
   ]
  },
  {
   "cell_type": "code",
   "execution_count": 32,
   "id": "92ce3347-7e03-4731-9b7b-f5f4d27a5243",
   "metadata": {},
   "outputs": [],
   "source": [
    "pipe = Pipeline(\n",
    "    [\n",
    "        ('vect',vect),\n",
    "        ('clf', rfc)\n",
    "    ]\n",
    ")"
   ]
  },
  {
   "cell_type": "code",
   "execution_count": 33,
   "id": "986d5bd6-9ffa-4b58-9733-abfd1961f38e",
   "metadata": {},
   "outputs": [
    {
     "name": "stdout",
     "output_type": "stream",
     "text": [
      "Fitting 5 folds for each of 32 candidates, totalling 160 fits\n"
     ]
    },
    {
     "data": {
      "text/plain": [
       "GridSearchCV(cv=5,\n",
       "             estimator=Pipeline(steps=[('vect',\n",
       "                                        TfidfVectorizer(ngram_range=(1, 2),\n",
       "                                                        stop_words='english')),\n",
       "                                       ('clf', RandomForestClassifier())]),\n",
       "             n_jobs=-1,\n",
       "             param_grid={'clf__max_depth': (15, 20),\n",
       "                         'clf__n_estimators': (5, 10),\n",
       "                         'vect__max_df': (0.75, 1.0),\n",
       "                         'vect__max_features': (500, 1000),\n",
       "                         'vect__min_df': (0.02, 0.05)},\n",
       "             verbose=1)"
      ]
     },
     "execution_count": 33,
     "metadata": {},
     "output_type": "execute_result"
    }
   ],
   "source": [
    "parameters = {\n",
    "    'vect__max_df': (0.75, 1.0),\n",
    "    'vect__min_df': (0.02, 0.05),\n",
    "    'vect__max_features': (500, 1000),\n",
    "    'clf__n_estimators': (5, 10,),\n",
    "    'clf__max_depth': (15, 20)\n",
    "}\n",
    "\n",
    "grid_search = GridSearchCV(pipe, parameters, cv=5, n_jobs=-1, verbose=1)\n",
    "grid_search.fit(data.data, data.target)"
   ]
  },
  {
   "cell_type": "code",
   "execution_count": 35,
   "id": "6fa7f97a-a880-4110-b38c-f04f6834b4ae",
   "metadata": {},
   "outputs": [
    {
     "data": {
      "text/plain": [
       "0.827971027452383"
      ]
     },
     "metadata": {},
     "output_type": "display_data"
    },
    {
     "data": {
      "text/plain": [
       "{'clf__max_depth': 15,\n",
       " 'clf__n_estimators': 10,\n",
       " 'vect__max_df': 0.75,\n",
       " 'vect__max_features': 1000,\n",
       " 'vect__min_df': 0.02}"
      ]
     },
     "metadata": {},
     "output_type": "display_data"
    }
   ],
   "source": [
    "display(grid_search.best_score_)\n",
    "display(grid_search.best_params_)"
   ]
  },
  {
   "cell_type": "code",
   "execution_count": 46,
   "id": "171a9df8-bbe7-47e9-96d8-2e51d0f1dbc6",
   "metadata": {},
   "outputs": [
    {
     "data": {
      "text/plain": [
       "array([0, 0, 0, 0, 1, 0])"
      ]
     },
     "metadata": {},
     "output_type": "display_data"
    },
    {
     "data": {
      "text/plain": [
       "array([[0.5967724, 0.4032276],\n",
       "       [0.5967724, 0.4032276]])"
      ]
     },
     "metadata": {},
     "output_type": "display_data"
    }
   ],
   "source": [
    "display(grid_search.predict([\n",
    "    'This is a free society',\n",
    "    'Elections will be in November',\n",
    "    \"Covid doesn't care what your political beliefs are.\",\n",
    "    'The team succesfully launched their satellite into low-earth orbit',\n",
    "    'The information paradox was solved last week, say some scientists.',\n",
    "    'We will be living on Mars in 2050.'\n",
    "]))\n",
    "display(grid_search.predict_proba(['Send me lots of money now', 'you won the lottery in Nigeria']))"
   ]
  },
  {
   "cell_type": "code",
   "execution_count": 49,
   "id": "e38484c5-d342-45c8-9b7d-b78e12f9080a",
   "metadata": {},
   "outputs": [],
   "source": [
    "parameters = {\n",
    "    'vect__max_df': scipy.stats.uniform(0.8, 0.99),\n",
    "    'vect__min_df': scipy.stats.uniform(0.01, 0.05),\n",
    "    'vect__max_features': scipy.stats.randint(500, 1000),\n",
    "    'clf__n_estimators': scipy.stats.randint(30, 100),\n",
    "    'clf__max_depth': scipy.stats.randint(20, 100)\n",
    "}\n",
    "\n",
    "# rand_search = RandomizedSearchCV(pipe, parameters, cv=3, n_jobs=-1, verbose=-1, n_iter=25)\n",
    "# rand_search.fit(data['data'], data['target'])"
   ]
  },
  {
   "cell_type": "code",
   "execution_count": 46,
   "id": "7c6908a6-acf0-4df6-a10b-c4562ee1287d",
   "metadata": {},
   "outputs": [
    {
     "data": {
      "text/plain": [
       "0.8619865439093485"
      ]
     },
     "metadata": {},
     "output_type": "display_data"
    },
    {
     "data": {
      "text/plain": [
       "{'clf__max_depth': 96,\n",
       " 'clf__n_estimators': 39,\n",
       " 'vect__max_df': 1.0354135316206217,\n",
       " 'vect__max_features': 948,\n",
       " 'vect__min_df': 0.014927942088577232}"
      ]
     },
     "metadata": {},
     "output_type": "display_data"
    }
   ],
   "source": [
    "display(rand_search.best_score_)\n",
    "display(rand_search.best_params_)"
   ]
  },
  {
   "cell_type": "code",
   "execution_count": 10,
   "id": "814d52fe-6bca-4001-8178-144b3051299b",
   "metadata": {},
   "outputs": [
    {
     "data": {
      "text/plain": [
       "['sci.space', 'talk.politics.misc']"
      ]
     },
     "metadata": {},
     "output_type": "display_data"
    },
    {
     "data": {
      "text/plain": [
       "array([1, 0, 1, 0, 0, 0])"
      ]
     },
     "execution_count": 10,
     "metadata": {},
     "output_type": "execute_result"
    }
   ],
   "source": [
    "display(data['target_names'])\n",
    "rand_search.predict([\n",
    "    'This is a free society',\n",
    "    'Elections will be in November',\n",
    "    \"Covid doesn't care what your political beliefs are.\",\n",
    "    'The team succesfully launched their satellite into low-earth orbit',\n",
    "    'The information paradox was solved last week, say some scientists.',\n",
    "    'We will be living on Mars in 2050.'\n",
    "])"
   ]
  },
  {
   "cell_type": "code",
   "execution_count": 11,
   "id": "49e89126-3798-4cd0-a361-9e519880e87c",
   "metadata": {},
   "outputs": [],
   "source": [
    "svd = TruncatedSVD(n_components=100,\n",
    "                   algorithm='randomized',\n",
    "                   n_iter=10)"
   ]
  },
  {
   "cell_type": "code",
   "execution_count": 56,
   "id": "139441a5-b162-4ae1-8dcb-fed546978b22",
   "metadata": {},
   "outputs": [],
   "source": [
    "params = {\n",
    "    'lsi__svd__n_components': scipy.stats.randint(10, 100),\n",
    "    'lsi__vect__max_df': scipy.stats.uniform(0.8, 0.99),\n",
    "    'clf__n_estimators': scipy.stats.randint(10, 100)\n",
    "}"
   ]
  },
  {
   "cell_type": "code",
   "execution_count": 57,
   "id": "f0e76431-d6ff-4aa8-a940-2de44de0bc17",
   "metadata": {},
   "outputs": [],
   "source": [
    "lsi = Pipeline([('vect', vect), ('svd', svd)])\n",
    "pipe = Pipeline([('lsi', lsi), ('clf', rfc)])"
   ]
  },
  {
   "cell_type": "code",
   "execution_count": 58,
   "id": "ba7bc458-e6a2-4953-a700-7797cbd7b61a",
   "metadata": {},
   "outputs": [
    {
     "name": "stdout",
     "output_type": "stream",
     "text": [
      "Pipeline(steps=[('lsi',\n",
      "                 Pipeline(steps=[('vect',\n",
      "                                  TfidfVectorizer(ngram_range=(1, 2),\n",
      "                                                  stop_words='english')),\n",
      "                                 ('svd',\n",
      "                                  TruncatedSVD(n_components=100, n_iter=10))])),\n",
      "                ('clf', RandomForestClassifier())])\n"
     ]
    }
   ],
   "source": [
    "print(pipe)"
   ]
  },
  {
   "cell_type": "code",
   "execution_count": 62,
   "id": "1c4d0c53-8911-46a3-84bc-fc9516c3f6f6",
   "metadata": {},
   "outputs": [
    {
     "name": "stdout",
     "output_type": "stream",
     "text": [
      "Fitting 3 folds for each of 15 candidates, totalling 45 fits\n"
     ]
    },
    {
     "data": {
      "text/plain": [
       "RandomizedSearchCV(cv=3,\n",
       "                   estimator=Pipeline(steps=[('lsi',\n",
       "                                              Pipeline(steps=[('vect',\n",
       "                                                               TfidfVectorizer(ngram_range=(1,\n",
       "                                                                                            2),\n",
       "                                                                               stop_words='english')),\n",
       "                                                              ('svd',\n",
       "                                                               TruncatedSVD(n_components=100,\n",
       "                                                                            n_iter=10))])),\n",
       "                                             ('clf',\n",
       "                                              RandomForestClassifier())]),\n",
       "                   n_iter=15, n_jobs=-1,\n",
       "                   param_distributions={'clf__n_estimators': <scipy.stats._distn_infrastructure.rv_frozen object at 0x7f7f287cc430>,\n",
       "                                        'lsi__svd__n_components': <scipy.stats._distn_infrastructure.rv_frozen object at 0x7f7ec83c8e50>,\n",
       "                                        'lsi__vect__max_df': <scipy.stats._distn_infrastructure.rv_frozen object at 0x7f7f28e43700>},\n",
       "                   verbose=1)"
      ]
     },
     "execution_count": 62,
     "metadata": {},
     "output_type": "execute_result"
    }
   ],
   "source": [
    "rand_search = RandomizedSearchCV(pipe, params, n_iter=15, cv=3, n_jobs=-1, verbose=1)\n",
    "rand_search.fit(data.data, data.target)"
   ]
  },
  {
   "cell_type": "code",
   "execution_count": 63,
   "id": "202354cb-d1e6-4f8b-a8c2-6fa9ffe20828",
   "metadata": {},
   "outputs": [
    {
     "data": {
      "text/plain": [
       "0.8912809039402525"
      ]
     },
     "metadata": {},
     "output_type": "display_data"
    },
    {
     "data": {
      "text/plain": [
       "{'clf__n_estimators': 54,\n",
       " 'lsi__svd__n_components': 38,\n",
       " 'lsi__vect__max_df': 1.753657175117353}"
      ]
     },
     "metadata": {},
     "output_type": "display_data"
    }
   ],
   "source": [
    "display(rand_search.best_score_)\n",
    "display(rand_search.best_params_)"
   ]
  },
  {
   "cell_type": "code",
   "execution_count": 67,
   "id": "67c18c86-01af-408a-b91d-bec4609a7074",
   "metadata": {},
   "outputs": [],
   "source": [
    "best_pipeline = rand_search.best_estimator_"
   ]
  },
  {
   "cell_type": "code",
   "execution_count": 70,
   "id": "ca3338d4-eee1-4830-b0fc-0dccfd5eefc4",
   "metadata": {},
   "outputs": [
    {
     "data": {
      "text/plain": [
       "{'clf__n_estimators': 54,\n",
       " 'lsi__svd__n_components': 38,\n",
       " 'lsi__vect__max_df': 1.753657175117353}"
      ]
     },
     "execution_count": 70,
     "metadata": {},
     "output_type": "execute_result"
    }
   ],
   "source": [
    "rand_search.best_params_"
   ]
  },
  {
   "cell_type": "code",
   "execution_count": 69,
   "id": "da9932ac-7879-4c88-8b99-6d2b978123ad",
   "metadata": {},
   "outputs": [
    {
     "data": {
      "text/plain": [
       "(1, 123386)"
      ]
     },
     "execution_count": 69,
     "metadata": {},
     "output_type": "execute_result"
    }
   ],
   "source": [
    "best_pipeline.named_steps['lsi'].named_steps['vect'].transform([data['data'][1]]).todense().shape"
   ]
  },
  {
   "cell_type": "code",
   "execution_count": 22,
   "id": "2435ab34-8057-4c30-a7f2-8fd115aa6606",
   "metadata": {},
   "outputs": [],
   "source": [
    "nlp = spacy.load('en_core_web_lg')"
   ]
  },
  {
   "cell_type": "code",
   "execution_count": 23,
   "id": "54e0cea5-9017-47d5-a74b-e30242f20817",
   "metadata": {},
   "outputs": [],
   "source": [
    "doc = nlp('Two bananas in pyjamas')\n"
   ]
  },
  {
   "cell_type": "code",
   "execution_count": 24,
   "id": "c3c97967-8918-44ef-acbd-d50cc95812ab",
   "metadata": {},
   "outputs": [],
   "source": [
    "bananas_vector = doc.vector"
   ]
  },
  {
   "cell_type": "code",
   "execution_count": 25,
   "id": "79540286-d6ea-4a27-b68f-dfce10c2dacc",
   "metadata": {},
   "outputs": [
    {
     "name": "stdout",
     "output_type": "stream",
     "text": [
      "300\n"
     ]
    }
   ],
   "source": [
    "print(len(bananas_vector))"
   ]
  },
  {
   "cell_type": "code",
   "execution_count": 43,
   "id": "5de7ddbc-261d-41f8-829c-5a483da766f6",
   "metadata": {},
   "outputs": [],
   "source": [
    "def get_word_vectors(docs):\n",
    "    return [nlp(doc).vector for doc in docs]"
   ]
  },
  {
   "cell_type": "code",
   "execution_count": 44,
   "id": "a8bd8c0f-881b-44e0-aeb4-93289a6dc71f",
   "metadata": {},
   "outputs": [
    {
     "name": "stdout",
     "output_type": "stream",
     "text": [
      "CPU times: user 41.4 s, sys: 2.53 s, total: 44 s\n",
      "Wall time: 44.1 s\n"
     ]
    },
    {
     "data": {
      "text/plain": [
       "True"
      ]
     },
     "execution_count": 44,
     "metadata": {},
     "output_type": "execute_result"
    }
   ],
   "source": [
    "%%time\n",
    "X = get_word_vectors(data.data)\n",
    "len(X) == len(data.data)"
   ]
  },
  {
   "cell_type": "code",
   "execution_count": 51,
   "id": "c6179525-dbd8-474b-8734-67a80d0d6ae6",
   "metadata": {},
   "outputs": [
    {
     "data": {
      "text/plain": [
       "(300,)"
      ]
     },
     "execution_count": 51,
     "metadata": {},
     "output_type": "execute_result"
    }
   ],
   "source": [
    "X[0].shape"
   ]
  },
  {
   "cell_type": "code",
   "execution_count": 53,
   "id": "a473f098-8532-4292-8796-37513e9cb2ec",
   "metadata": {},
   "outputs": [
    {
     "data": {
      "text/plain": [
       "RandomForestClassifier()"
      ]
     },
     "execution_count": 53,
     "metadata": {},
     "output_type": "execute_result"
    }
   ],
   "source": [
    "rfc.fit(X, data['target'])"
   ]
  },
  {
   "cell_type": "code",
   "execution_count": 54,
   "id": "6518947d-77a0-43dd-80ef-634d460c0ab0",
   "metadata": {},
   "outputs": [
    {
     "data": {
      "text/plain": [
       "0.9877126654064272"
      ]
     },
     "execution_count": 54,
     "metadata": {},
     "output_type": "execute_result"
    }
   ],
   "source": [
    "rfc.score(X, data['target'])"
   ]
  },
  {
   "cell_type": "code",
   "execution_count": 55,
   "id": "4ddedbab-143d-4ce6-82c6-5a5e3d77aac8",
   "metadata": {},
   "outputs": [],
   "source": [
    "from multiprocessing import Pool, cpu_count"
   ]
  },
  {
   "cell_type": "code",
   "execution_count": 59,
   "id": "cf3baae6-57ec-416c-8745-53c966d8b365",
   "metadata": {},
   "outputs": [],
   "source": [
    "# cpu_count()"
   ]
  },
  {
   "cell_type": "code",
   "execution_count": 57,
   "id": "1711b968-e2f7-4218-9ec7-2163e41cfcfa",
   "metadata": {},
   "outputs": [],
   "source": [
    "pool = Pool(3)"
   ]
  },
  {
   "cell_type": "code",
   "execution_count": 62,
   "id": "57cd5924-db7f-48e5-8614-7a16dbb28d17",
   "metadata": {},
   "outputs": [],
   "source": [
    "def to_vec(doc):\n",
    "    return nlp(doc).vector"
   ]
  },
  {
   "cell_type": "code",
   "execution_count": 64,
   "id": "42772e63-7865-4b5e-99a4-42ebce0e5ad3",
   "metadata": {},
   "outputs": [
    {
     "name": "stdout",
     "output_type": "stream",
     "text": [
      "CPU times: user 83.3 ms, sys: 14.7 ms, total: 98.1 ms\n",
      "Wall time: 97.4 ms\n"
     ]
    },
    {
     "data": {
      "text/plain": [
       "array([-6.36314899e-02,  1.15123436e-01, -2.54435129e-02, -5.07751815e-02,\n",
       "        7.32879788e-02, -1.41258379e-02, -2.37843227e-02, -8.71081837e-04,\n",
       "        5.16206212e-02,  2.75603235e-01, -1.74923956e-01,  1.93485975e-01,\n",
       "        3.78735922e-02, -5.68364896e-02,  5.12874825e-03,  5.21986149e-02,\n",
       "       -1.15655169e-01,  8.18282187e-01, -1.87957734e-01,  2.14149207e-02,\n",
       "       -6.64218739e-02, -1.22655006e-02, -1.01321600e-01, -3.54594067e-02,\n",
       "        5.48648052e-02, -1.37901276e-01,  2.59652943e-03, -3.70653681e-02,\n",
       "        4.70878966e-02,  9.94207859e-02, -6.74006790e-02,  1.01654744e-02,\n",
       "       -5.52445203e-02, -1.79846697e-02,  3.34651656e-02, -6.76414222e-02,\n",
       "       -4.32113558e-03,  8.59654397e-02, -3.14159319e-02,  1.38683677e-01,\n",
       "        1.63842868e-02, -1.80005450e-02,  2.07979470e-01,  1.77050326e-02,\n",
       "       -4.96200211e-02, -1.17674001e-01,  1.45270769e-02,  1.71200648e-01,\n",
       "       -1.05166354e-03, -2.36345157e-02,  6.37273025e-03,  3.13890316e-02,\n",
       "        1.19358571e-02, -1.08354576e-01,  6.47332333e-03,  1.00856004e-02,\n",
       "       -6.86494823e-05,  1.03137337e-01,  2.17064824e-02, -1.54476538e-01,\n",
       "       -1.21189721e-01, -8.86289924e-02, -1.13524236e-02,  9.56513211e-02,\n",
       "       -1.31112887e-02,  3.45817469e-02,  1.37437120e-01, -9.99059752e-02,\n",
       "       -3.95808369e-02, -5.71610145e-02, -6.66047353e-03,  8.03696886e-02,\n",
       "       -8.20608810e-02,  1.33938286e-02,  2.19362333e-01,  1.78537667e-01,\n",
       "       -7.10415319e-02, -1.42966909e-02,  1.41187683e-01,  8.51259828e-02,\n",
       "       -1.52641721e-03,  6.50543422e-02,  5.14442213e-02,  7.66286720e-03,\n",
       "       -4.69256602e-02, -7.27663860e-02,  3.32439899e-01, -5.41510820e-01,\n",
       "        3.78229422e-03, -1.72933117e-02, -1.89146828e-02,  8.39112550e-02,\n",
       "        3.57609801e-02, -2.65778601e-01,  1.08469851e-01, -2.11856276e-01,\n",
       "       -7.92935193e-02,  5.23928255e-02,  1.11452170e-01,  3.87667604e-02,\n",
       "        3.36012170e-02,  4.00703736e-02, -7.90937629e-04,  1.98799185e-02,\n",
       "       -4.71013635e-02,  4.40428585e-01,  1.56055868e-01,  3.47835384e-02,\n",
       "        1.41593786e-02,  9.12106261e-02, -1.74443587e-03, -7.81355649e-02,\n",
       "        3.41061642e-03, -3.12104188e-02, -1.54461771e-01,  3.40048149e-02,\n",
       "        6.95868284e-02, -8.69871154e-02,  3.04735508e-02, -8.91966596e-02,\n",
       "        8.14893246e-02,  5.51466979e-02, -3.49479094e-02, -1.15922280e-01,\n",
       "       -3.13809335e-01,  6.44049495e-02,  9.98159572e-02, -4.49984297e-02,\n",
       "        6.18902408e-02, -4.86508943e-02,  7.37617239e-02,  2.14218184e-01,\n",
       "       -2.71850675e-02,  1.08238719e-01,  2.69948076e-02, -5.42644858e-02,\n",
       "        2.58437693e-02, -1.12597004e-01,  4.42530625e-02,  7.15675205e-02,\n",
       "       -2.23697633e-01,  5.38158342e-02,  5.97026721e-02,  1.76599752e-02,\n",
       "        4.96007875e-02, -4.56079952e-02,  3.40076201e-02, -4.90633249e-02,\n",
       "       -1.36369467e-02, -1.11150347e-01,  1.09541342e-01,  3.85654569e-02,\n",
       "        5.54778799e-03,  8.71637464e-02, -1.72991641e-02, -9.10584629e-02,\n",
       "       -5.25845774e-02,  7.70929605e-02,  2.15138346e-01,  8.65371674e-02,\n",
       "        8.34811553e-02, -4.03904431e-02, -1.70577429e-02, -1.51356548e-01,\n",
       "       -2.63789237e-01,  3.88755016e-02, -8.16570669e-02, -1.20898448e-01,\n",
       "        4.06827070e-02,  4.56277318e-02,  1.18651159e-01,  5.86622208e-02,\n",
       "       -1.14893764e-01, -9.86872008e-04,  2.81295869e-02, -6.91168979e-02,\n",
       "        1.37305215e-01, -1.16043322e-01, -1.91331543e-02, -2.13341296e-01,\n",
       "        5.20445071e-02, -1.17765434e-01, -5.64738736e-02, -1.16772778e-01,\n",
       "       -1.36530086e-01,  9.75138694e-02, -2.54486889e-01,  1.81970105e-01,\n",
       "       -2.33692303e-02,  1.85293332e-02, -5.98630197e-02,  6.30505681e-02,\n",
       "       -2.47416124e-02,  9.24539566e-02,  8.62806737e-02, -1.06899828e-01,\n",
       "       -9.95781273e-03, -2.80742824e-01, -5.58166690e-02,  1.64039865e-01,\n",
       "        8.25195238e-02, -1.56648055e-01, -2.54500378e-03,  1.37834102e-01,\n",
       "        6.74444735e-02, -1.13674708e-01,  4.45725992e-02, -1.00384332e-01,\n",
       "       -6.00716937e-03, -9.42841619e-02,  9.21899751e-02, -1.78481415e-01,\n",
       "        1.76236138e-01, -1.54877573e-01,  7.57976696e-02, -2.22470295e-02,\n",
       "        5.06505072e-02,  3.66872875e-03, -3.05647045e-01, -2.19636057e-02,\n",
       "        3.60160768e-02,  2.16076858e-02, -4.71494906e-02, -8.52529630e-02,\n",
       "        1.83129627e-02,  9.63102207e-02,  6.56115413e-02, -4.07498106e-02,\n",
       "        9.14865434e-02, -1.74502768e-02,  2.88820323e-02, -2.47351676e-01,\n",
       "        9.50923860e-02, -1.09961666e-02, -1.11907814e-02, -1.03121460e-03,\n",
       "       -4.77842949e-02,  1.71150721e-03,  8.81789252e-03,  7.83432368e-03,\n",
       "       -1.60601437e-01, -9.57518369e-02,  7.36160204e-03,  1.17930263e-01,\n",
       "       -5.98240979e-02, -1.44625962e-01, -6.83076680e-04, -5.29970154e-02,\n",
       "       -1.26083881e-01, -1.56429887e-01,  1.11542232e-01,  2.25356132e-01,\n",
       "        5.78641556e-02, -1.78886831e-01, -6.83941245e-02,  1.98286772e-01,\n",
       "        6.98609203e-02, -1.37907490e-01,  1.75829753e-02,  1.87605470e-02,\n",
       "       -5.91631867e-02,  1.95567593e-01,  1.36213243e-01,  1.29510358e-01,\n",
       "        2.00764164e-02, -2.18425274e-01,  7.89634362e-02, -2.15316862e-02,\n",
       "        2.36138076e-01, -1.67907164e-01, -3.06986421e-02,  8.52829069e-02,\n",
       "       -4.17455882e-02, -4.67619449e-02,  3.39145437e-02, -6.20857961e-02,\n",
       "        5.32600358e-02, -1.55027146e-02, -1.90360531e-01, -2.06953939e-02,\n",
       "        1.29239127e-01,  2.94975638e-02,  1.03863947e-01, -1.42769605e-01,\n",
       "        1.12275250e-01, -6.09032214e-02,  4.72900532e-02, -1.19255468e-01,\n",
       "        5.57725318e-02,  1.47936806e-01,  1.53327167e-01, -5.52790388e-02,\n",
       "        3.50678340e-02,  1.36508560e-02, -1.12957815e-02, -3.83826308e-02,\n",
       "       -8.22513625e-02, -6.08323589e-02, -8.06755759e-03, -1.09291419e-01],\n",
       "      dtype=float32)"
      ]
     },
     "execution_count": 64,
     "metadata": {},
     "output_type": "execute_result"
    }
   ],
   "source": [
    "%%time\n",
    "to_vec(data['data'][0])"
   ]
  },
  {
   "cell_type": "code",
   "execution_count": null,
   "id": "948a4293-4145-42cc-b540-5d13a9d93371",
   "metadata": {},
   "outputs": [],
   "source": []
  }
 ],
 "metadata": {
  "kernelspec": {
   "display_name": "Python 3 (ipykernel)",
   "language": "python",
   "name": "python3"
  },
  "language_info": {
   "codemirror_mode": {
    "name": "ipython",
    "version": 3
   },
   "file_extension": ".py",
   "mimetype": "text/x-python",
   "name": "python",
   "nbconvert_exporter": "python",
   "pygments_lexer": "ipython3",
   "version": "3.9.8"
  }
 },
 "nbformat": 4,
 "nbformat_minor": 5
}
